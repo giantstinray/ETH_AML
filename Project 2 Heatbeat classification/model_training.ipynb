{
 "cells": [
  {
   "cell_type": "markdown",
   "metadata": {
    "colab_type": "text",
    "id": "view-in-github"
   },
   "source": [
    "<a href=\"https://colab.research.google.com/github/lygitdata/aml_project/blob/main/project2/model_training.ipynb\" target=\"_parent\"><img src=\"https://colab.research.google.com/assets/colab-badge.svg\" alt=\"Open In Colab\"/></a>"
   ]
  },
  {
   "cell_type": "markdown",
   "metadata": {
    "id": "KGfw7IukYeYW"
   },
   "source": [
    "# Import libraries"
   ]
  },
  {
   "cell_type": "code",
   "execution_count": 11,
   "metadata": {
    "id": "yD-hZ8l9Ybmd"
   },
   "outputs": [],
   "source": [
    "import csv\n",
    "import os\n",
    "import biosppy.signals.ecg as ecg\n",
    "import biosppy\n",
    "import neurokit2 as nk\n",
    "import matplotlib.pyplot as plt\n",
    "import numpy as np\n",
    "import pandas as pd\n",
    "import scipy as sp\n",
    "from scipy import stats\n",
    "from scipy.signal import find_peaks, welch\n",
    "from scipy.stats import kurtosis, skew\n",
    "import pywt\n",
    "import multiprocessing as mp\n",
    "from tqdm import tqdm\n",
    "import pickle\n",
    "from imblearn import over_sampling, pipeline\n",
    "import lightgbm as lgb\n",
    "import catboost as cat\n",
    "from xgboost import XGBRegressor\n",
    "from sklearn import ensemble, model_selection, preprocessing, svm, linear_model\n",
    "from sklearn.gaussian_process import GaussianProcessRegressor\n",
    "from sklearn.gaussian_process.kernels import RBF, Matern, RationalQuadratic\n",
    "from sklearn.metrics import r2_score, mean_squared_error\n",
    "\n",
    "# Change this path to the folder that has your data\n",
    "fpath = \"aml_p2/data/\"\n",
    "RANDOM_STATE = 88"
   ]
  },
  {
   "cell_type": "markdown",
   "metadata": {
    "id": "7k2tC0dNYhL9"
   },
   "source": [
    "# Load data"
   ]
  },
  {
   "cell_type": "code",
   "execution_count": 5,
   "metadata": {
    "id": "SfcAO82VYjRF"
   },
   "outputs": [],
   "source": [
    "X_train = np.load(f\"{fpath}X_train_selected.npy\")\n",
    "X_test = np.load(f\"{fpath}X_test_selected.npy\")\n",
    "y_train = np.load(f\"{fpath}y_train.npy\")"
   ]
  },
  {
   "cell_type": "markdown",
   "metadata": {
    "id": "dx1UdoBtZAtY"
   },
   "source": [
    "# Data processing"
   ]
  },
  {
   "cell_type": "code",
   "execution_count": 6,
   "metadata": {
    "id": "kjsm6LzIZFYp"
   },
   "outputs": [
    {
     "name": "stdout",
     "output_type": "stream",
     "text": [
      "X_train shape:  (5117, 80) \n",
      "X_test shape (3411, 80)\n"
     ]
    }
   ],
   "source": [
    "print(\n",
    "    \"X_train shape: \",\n",
    "    X_train.shape,\n",
    "    \"\\nX_test shape\",\n",
    "    X_test.shape,\n",
    ")"
   ]
  },
  {
   "cell_type": "markdown",
   "metadata": {
    "id": "VhB8VtT8Y_25"
   },
   "source": [
    "# Model training"
   ]
  },
  {
   "cell_type": "code",
   "execution_count": null,
   "metadata": {
    "id": "VdENCqCBdj08"
   },
   "outputs": [],
   "source": [
    "model = pipeline.make_pipeline(\n",
    "    over_sampling.RandomOverSampler(random_state=RANDOM_STATE),\n",
    "    preprocessing.StandardScaler(),\n",
    "    ensemble.StackingClassifier(\n",
    "        estimators = [\n",
    "            (\"hgb\", ensemble.HistGradientBoostingClassifier(l2_regularization=0.2)),\n",
    "            # (\"svr\", svm.SVC(C=60.0, kernel='rbf')),\n",
    "            # (\"etr\", ensemble.ExtraTreesClassifier()),\n",
    "            (\"lgb\", lgb.LGBMClassifier(verbose=0)),\n",
    "            # (\"cat\", cat.CatBoostClassifier(verbose=0))\n",
    "        ],\n",
    "        final_estimator=linear_model.RidgeClassifierCV()\n",
    "    )\n",
    ")"
   ]
  },
  {
   "cell_type": "code",
   "execution_count": 33,
   "metadata": {
    "id": "ifRBoTXAZT4D"
   },
   "outputs": [
    {
     "name": "stdout",
     "output_type": "stream",
     "text": [
      "Mean F1 score:  0.7742823359330137 \n",
      "Std. F1 score:  0.007105704885220574\n"
     ]
    }
   ],
   "source": [
    "score = model_selection.cross_val_score(\n",
    "    estimator=model,\n",
    "    X=X_train,\n",
    "    y=y_train,\n",
    "    cv=6,\n",
    "    n_jobs=-1\n",
    ")\n",
    "print(\"Mean F1 score: \", score.mean(), \"\\nStd. F1 score: \", score.std())"
   ]
  },
  {
   "cell_type": "markdown",
   "metadata": {
    "id": "y-v_QaA9dfLs"
   },
   "source": [
    "# Generate prediction"
   ]
  },
  {
   "cell_type": "code",
   "execution_count": 34,
   "metadata": {
    "id": "ujHT0aqoan6e"
   },
   "outputs": [],
   "source": [
    "def create_submission(model, X_train, y_train, X_test):\n",
    "    model.fit(X_train, y_train)\n",
    "    pred = model.predict(X_test)\n",
    "    pred = np.vstack((np.arange(X_test.shape[0]), pred)).T\n",
    "    np.savetxt(\"submission.csv\", pred, delimiter=\",\", header=\"id,y\", comments=\"\")\n",
    "\n",
    "\n",
    "create_submission(model, X_train, y_train, X_test)"
   ]
  },
  {
   "cell_type": "code",
   "execution_count": null,
   "metadata": {},
   "outputs": [],
   "source": []
  },
  {
   "cell_type": "code",
   "execution_count": null,
   "metadata": {},
   "outputs": [],
   "source": []
  }
 ],
 "metadata": {
  "colab": {
   "authorship_tag": "ABX9TyNFswewg8o1/mo3p6VvvSha",
   "include_colab_link": true,
   "mount_file_id": "12CBSzY_EGcvmAOVBXFcGaI9jCbhUpZFj",
   "provenance": []
  },
  "kernelspec": {
   "display_name": "Python 3",
   "name": "python3"
  },
  "language_info": {
   "codemirror_mode": {
    "name": "ipython",
    "version": 3
   },
   "file_extension": ".py",
   "mimetype": "text/x-python",
   "name": "python",
   "nbconvert_exporter": "python",
   "pygments_lexer": "ipython3",
   "version": "3.9.10"
  }
 },
 "nbformat": 4,
 "nbformat_minor": 0
}
