{
  "cells": [
    {
      "cell_type": "markdown",
      "metadata": {
        "colab_type": "text",
        "id": "view-in-github"
      },
      "source": [
        "<a href=\"https://colab.research.google.com/github/lygitdata/aml_project/blob/main/project1/code/main.ipynb\" target=\"_parent\"><img src=\"https://colab.research.google.com/assets/colab-badge.svg\" alt=\"Open In Colab\"/></a>"
      ]
    },
    {
      "cell_type": "markdown",
      "metadata": {
        "id": "HZWK1WBm68iq"
      },
      "source": [
        "# Install & import necessary libraries"
      ]
    },
    {
      "cell_type": "code",
      "execution_count": 1,
      "metadata": {
        "id": "pvXevtY-l14Z"
      },
      "outputs": [
        {
          "name": "stdout",
          "output_type": "stream",
          "text": [
            "Note: you may need to restart the kernel to use updated packages.\n"
          ]
        },
        {
          "name": "stderr",
          "output_type": "stream",
          "text": [
            "WARNING: Ignoring invalid distribution -ip (c:\\python\\python310\\lib\\site-packages)\n",
            "WARNING: Ignoring invalid distribution -cipy (c:\\python\\python310\\lib\\site-packages)\n",
            "WARNING: Ignoring invalid distribution -ip (c:\\python\\python310\\lib\\site-packages)\n",
            "WARNING: Ignoring invalid distribution -cipy (c:\\python\\python310\\lib\\site-packages)\n",
            "WARNING: Ignoring invalid distribution -ip (c:\\python\\python310\\lib\\site-packages)\n",
            "WARNING: Ignoring invalid distribution -cipy (c:\\python\\python310\\lib\\site-packages)\n",
            "WARNING: Ignoring invalid distribution -ip (c:\\python\\python310\\lib\\site-packages)\n",
            "WARNING: Ignoring invalid distribution -cipy (c:\\python\\python310\\lib\\site-packages)\n",
            "WARNING: Ignoring invalid distribution -ip (c:\\python\\python310\\lib\\site-packages)\n",
            "WARNING: Ignoring invalid distribution -cipy (c:\\python\\python310\\lib\\site-packages)\n",
            "WARNING: Ignoring invalid distribution -ip (c:\\python\\python310\\lib\\site-packages)\n",
            "WARNING: Ignoring invalid distribution -cipy (c:\\python\\python310\\lib\\site-packages)\n"
          ]
        }
      ],
      "source": [
        "pip install pyod -q"
      ]
    },
    {
      "cell_type": "code",
      "execution_count": 1,
      "metadata": {
        "id": "iC_nGjod6L6W"
      },
      "outputs": [],
      "source": [
        "import matplotlib.pyplot as plt\n",
        "import numpy as np\n",
        "import pandas as pd\n",
        "import seaborn as sns\n",
        "import tensorflow as tf\n",
        "from pyod.models.ecod import ECOD\n",
        "from scipy import stats\n",
        "from sklearn.feature_selection import SelectFromModel\n",
        "from sklearn.impute import SimpleImputer, KNNImputer\n",
        "from sklearn.metrics import mean_squared_error, r2_score\n",
        "from sklearn.model_selection import KFold, train_test_split, GridSearchCV\n",
        "from sklearn.preprocessing import StandardScaler\n",
        "from sklearn.svm import SVR\n",
        "from tensorflow import keras\n",
        "from tensorflow.keras import layers, regularizers\n",
        "from tensorflow.keras.models import Sequential\n",
        "from xgboost import XGBRegressor\n",
        "from sklearn import ensemble, model_selection\n",
        "from sklearn.ensemble import RandomForestRegressor, GradientBoostingRegressor, StackingRegressor\n",
        "from sklearn.linear_model import Ridge, LassoCV\n",
        "from sklearn.pipeline import make_pipeline, Pipeline\n",
        "import lightgbm as lgb\n",
        "import catboost as cb\n",
        "import joblib"
      ]
    },
    {
      "cell_type": "markdown",
      "metadata": {
        "id": "iUHWUYP36_yZ"
      },
      "source": [
        "# Prepare data"
      ]
    },
    {
      "cell_type": "markdown",
      "metadata": {
        "id": "kkykmU0ywxqy"
      },
      "source": [
        "## Helper functions"
      ]
    },
    {
      "cell_type": "code",
      "execution_count": 2,
      "metadata": {
        "id": "0Rces5z9wxEj"
      },
      "outputs": [],
      "source": [
        "def impute_column_rf(df, target_col):\n",
        "    \"\"\"\n",
        "    Imputation using random forest\n",
        "    \"\"\"\n",
        "    pd.options.mode.chained_assignment = None\n",
        "    df_complete = df[df[target_col].notnull()].copy()\n",
        "    df_missing = df[df[target_col].isnull()].copy()\n",
        "\n",
        "    if df_complete.empty or df_missing.empty:\n",
        "        return df\n",
        "\n",
        "    X_complete = df_complete.drop(columns=target_col)\n",
        "    y_complete = df_complete[target_col]\n",
        "\n",
        "    model = RandomForestRegressor(n_estimators=16, random_state=88, n_jobs=-1)\n",
        "    model.fit(X_complete, y_complete)\n",
        "\n",
        "    X_missing = df_missing.drop(columns=target_col)\n",
        "    predictions = model.predict(X_missing)\n",
        "    df.loc[df[target_col].isnull(), target_col] = predictions\n",
        "\n",
        "    return df\n",
        "\n",
        "def impute_column_KNN(df, n_neighbors=5):\n",
        "    \"\"\"\n",
        "    Imputation using KNN\n",
        "    \"\"\"\n",
        "    df_copy = df.copy()\n",
        "    \n",
        "    # Initialize KNNImputer with specified number of neighbors\n",
        "    imputer = KNNImputer(n_neighbors=n_neighbors)\n",
        "\n",
        "    # Apply KNN imputer to the DataFrame\n",
        "    imputed_array = imputer.fit_transform(df_copy)\n",
        "    \n",
        "    # Convert the imputed array back to a DataFrame with original column names\n",
        "    df_imputed = pd.DataFrame(imputed_array, columns=df_copy.columns)\n",
        "    \n",
        "    return df_imputed\n",
        "\n",
        "\n",
        "\n",
        "def imput(train, test, strategy=\"median\"):\n",
        "    \"\"\"\n",
        "    Impute missing values in the training and test datasets.\n",
        "\n",
        "    This function addresses missing values in the `train` and `test` datasets by applying the specified imputation strategy.\n",
        "    It supports various methods, including \"mean\" and \"median\" (default), as well as \"random_forest\" for more advanced imputation.\n",
        "    The function returns two DataFrames: the imputed training dataset and the imputed test dataset.\n",
        "\n",
        "    :param train: Training dataset containing features and possibly missing values.\n",
        "    :type train: pd.DataFrame\n",
        "    :param test: Test dataset containing features and possibly missing values.\n",
        "    :type test: pd.DataFrame\n",
        "    :param strategy: Imputation strategy to use for missing values (default is \"median\"). Options include \"mean\", \"median\", and \"random_forest\".\n",
        "    :type strategy: str\n",
        "    :return: Tuple containing the imputed training and test datasets.\n",
        "    :rtype: tuple of pd.DataFrame\n",
        "    \"\"\"\n",
        "    if strategy == \"random_forest\":\n",
        "      print(\"Use 'random_forest' to impute missing value.\")\n",
        "      for col in train.columns:\n",
        "          if train[col].isnull().any():\n",
        "              train_imputed = impute_column_rf(train, col)\n",
        "      for col in test.columns:\n",
        "          if test[col].isnull().any():\n",
        "              test_imputed = impute_column_rf(test, col)\n",
        "    elif strategy == \"KNN\":\n",
        "      print(\"Use 'KNN' to impute missing value.\")\n",
        "      train_imputed = impute_column_KNN(train)\n",
        "      test_imputed = impute_column_KNN(test)\n",
        "    else:\n",
        "      print(\"Use 'SimpleImputer' to impute missing value.\")\n",
        "      imputer = SimpleImputer(strategy=strategy)\n",
        "      train_imputed = pd.DataFrame(\n",
        "          imputer.fit_transform(train), columns=train.columns\n",
        "      )\n",
        "      test_imputed = pd.DataFrame(\n",
        "          imputer.transform(test), columns=test.columns\n",
        "      )\n",
        "    \n",
        "    return train_imputed, test_imputed\n",
        "\n",
        "\n",
        "\n",
        "def outlier(X_train, y_train, contamination=0.01, verbose=False):\n",
        "    \"\"\"\n",
        "    Remove outliers from training data using the ECOD (Empirical Cumulative Distribution) method.\n",
        "\n",
        "    This function identifies and removes outliers from the training dataset based on the specified contamination\n",
        "    rate using ECOD. It resets the index after removing outliers to ensure continuous row numbers.\n",
        "\n",
        "    :param X_train: Training features.\n",
        "    :type X_train: pd.DataFrame\n",
        "    :param y_train: Training target labels.\n",
        "    :type y_train: pd.DataFrame or pd.Series\n",
        "    :param contamination: The proportion of outliers in the data (default is 0.01).\n",
        "    :type contamination: float\n",
        "    :param verbose: If True, prints the shapes of the resulting datasets after outlier removal (default is False).\n",
        "    :type verbose: bool\n",
        "    :return: Training features and labels after outlier removal.\n",
        "    :rtype: tuple of pd.DataFrame\n",
        "    \"\"\"\n",
        "    mask = (\n",
        "        ECOD(contamination=contamination).fit(X_train, y_train).predict(X_train) != 1\n",
        "    ).astype(int) == 1\n",
        "    X_new = pd.DataFrame(X_train[mask]).reset_index(drop=True)\n",
        "    y_new = pd.DataFrame(y_train[mask]).reset_index(drop=True)\n",
        "\n",
        "    if verbose:\n",
        "        print(\n",
        "            f\"The shape of X_train: {X_new.shape}. \\nThe shape of y_train: {y_new.shape}.\"\n",
        "        )\n",
        "\n",
        "    return X_new, y_new\n",
        "\n",
        "\n",
        "def xgb_feature_importance(\n",
        "    n_estimators,\n",
        "    early_stopping_rounds,\n",
        "    X_train,\n",
        "    y_train,\n",
        "    n_splits,\n",
        "    eval_metric,\n",
        "    verbose=False,\n",
        "):\n",
        "    \"\"\"\n",
        "    Perform K-fold cross-validation and compute feature importance using XGBoost.\n",
        "\n",
        "    This function trains an XGBoost model on multiple K-folds of the training data, calculates feature importance\n",
        "    for each fold, and then aggregates the importance scores. Optionally, it can display a bar plot of the top features.\n",
        "\n",
        "    :param n_estimators: Number of boosting rounds.\n",
        "    :type n_estimators: int\n",
        "    :param early_stopping_rounds: Number of rounds without improvement before stopping early.\n",
        "    :type early_stopping_rounds: int\n",
        "    :param X_train: Training features.\n",
        "    :type X_train: pd.DataFrame\n",
        "    :param y_train: Training target labels.\n",
        "    :type y_train: pd.DataFrame or pd.Series\n",
        "    :param n_splits: Number of cross-validation splits.\n",
        "    :type n_splits: int\n",
        "    :param eval_metric: Evaluation metric to optimize (e.g., \"rmse\").\n",
        "    :type eval_metric: str\n",
        "    :param verbose: If True, plots a bar chart of the top 50 feature importances (default is False).\n",
        "    :type verbose: bool\n",
        "    :return: A dictionary containing feature importance for each fold and cumulative importance.\n",
        "    :rtype: dict\n",
        "    \"\"\"\n",
        "    kf_xgb = KFold(n_splits=n_splits, shuffle=True, random_state=88)\n",
        "    all_feature_dict = {}\n",
        "    cumulative_importance = np.zeros(len(X_train.columns))\n",
        "    fold_num = 1\n",
        "\n",
        "    for train_index, val_index in kf_xgb.split(X_train):\n",
        "        # Split the data into training and validation sets for this foldfscale\n",
        "        X_train_fold, X_val_fold = X_train.iloc[train_index], X_train.iloc[val_index]\n",
        "        y_train_fold, y_val_fold = y_train.iloc[train_index], y_train.iloc[val_index]\n",
        "\n",
        "        # Initialize and fit the XGBoost model\n",
        "        xgb = XGBRegressor(\n",
        "            n_estimators=n_estimators,\n",
        "            random_state=88,\n",
        "            eval_metric=eval_metric,\n",
        "            early_stopping_rounds=early_stopping_rounds,\n",
        "        )\n",
        "\n",
        "        xgb.fit(\n",
        "            X_train_fold,\n",
        "            y_train_fold,\n",
        "            eval_set=[(X_val_fold, y_val_fold)],\n",
        "            verbose=False,\n",
        "        )\n",
        "\n",
        "        # Get feature importance for the current fold\n",
        "        importances = xgb.feature_importances_\n",
        "\n",
        "        # Accumulate the importance scores\n",
        "        cumulative_importance += importances\n",
        "        feature_importance_df = pd.DataFrame(\n",
        "            {\"Feature\": X_train.columns, \"Importance\": importances}\n",
        "        ).sort_values(by=\"Importance\", ascending=False)\n",
        "        all_feature_dict[f\"fold{fold_num}\"] = feature_importance_df\n",
        "\n",
        "        fold_num += 1\n",
        "\n",
        "    # After all folds, create a final DataFrame with summed feature importance\n",
        "    final_feature_importance_df = pd.DataFrame(\n",
        "        {\"Feature\": X_train.columns, \"Importance\": cumulative_importance}\n",
        "    ).sort_values(by=\"Importance\", ascending=False)\n",
        "\n",
        "    if verbose:\n",
        "        plt.figure(figsize=(8, 7))\n",
        "        sns.barplot(\n",
        "            x=\"Importance\",\n",
        "            y=\"Feature\",\n",
        "            hue=\"Feature\",\n",
        "            data=final_feature_importance_df[0:50],\n",
        "            palette=\"viridis\",\n",
        "        )\n",
        "        plt.xlabel(\"Cumulative Importance\")\n",
        "        plt.ylabel(\"Feature\")\n",
        "        plt.title(\"Top 50 Feature Importance from XGBoost Model\")\n",
        "        plt.tight_layout()\n",
        "        plt.show()\n",
        "\n",
        "    return {\"each\": all_feature_dict, \"sum\": final_feature_importance_df}\n",
        "\n",
        "\n",
        "def xgb_feature_select(xgb_importance, X_train, X_test, adjust=1, criteria=\"mean\", verbose=True):\n",
        "    \"\"\"\n",
        "    Select features based on XGBoost feature importance.\n",
        "\n",
        "    This function selects features from the training and test datasets based on the cumulative feature importance\n",
        "    scores from the XGBoost model. You can choose to keep features with importance above the mean or median importance.\n",
        "\n",
        "    :param xgb_importance: Dictionary containing feature importance results.\n",
        "    :type xgb_importance: dict\n",
        "    :param X_train: Training features.\n",
        "    :type X_train: pd.DataFrame\n",
        "    :param X_test: Test features.\n",
        "    :type X_test: pd.DataFrame\n",
        "    :param criteria: Criteria to select features, either 'mean' or 'median' (default is 'mean').\n",
        "    :type criteria: str\n",
        "    :param verbose: If True, prints the number of selected features (default is True).\n",
        "    :type verbose: bool\n",
        "    :return: Reduced training and test datasets with selected features.\n",
        "    :rtype: tuple of pd.DataFrame\n",
        "    \"\"\"\n",
        "    if criteria == \"mean\":\n",
        "        selected_feature = np.array(\n",
        "            xgb_importance[\"sum\"][\"Feature\"][\n",
        "                xgb_importance[\"sum\"][\"Importance\"]\n",
        "                >= np.mean(xgb_importance[\"sum\"][\"Importance\"]) * adjust\n",
        "            ]\n",
        "        )\n",
        "        if verbose:\n",
        "            print(f\"There are {len(selected_feature)} features selected.\")\n",
        "        X_train_new = X_train[selected_feature]\n",
        "        X_test_new = X_test[selected_feature]\n",
        "        return X_train_new, X_test_new\n",
        "    elif criteria == \"median\":\n",
        "        selected_feature = np.array(\n",
        "            xgb_importance[\"sum\"][\"Feature\"][\n",
        "                xgb_importance[\"sum\"][\"Importance\"]\n",
        "                >= np.mean(xgb_importance[\"sum\"][\"Importance\"]) * adjust\n",
        "            ]\n",
        "        )\n",
        "        if verbose:\n",
        "            print(f\"There are {len(selected_feature)} features selected.\")\n",
        "        X_train_new = X_train[selected_feature]\n",
        "        X_test_new = X_test[selected_feature]\n",
        "        return X_train_new, X_test_new\n",
        "    else:\n",
        "        print(\"The `criteria` must be either 'mean' or 'median'.\")\n",
        "\n",
        "\n",
        "def preprocess(\n",
        "    X_train,\n",
        "    X_test,\n",
        "    y_train,\n",
        "    strategy=\"median\",\n",
        "    contamination=0.01,\n",
        "    n_estimators=10,\n",
        "    early_stopping_rounds=8,\n",
        "    n_splits=10,\n",
        "    eval_metric=\"rmse\",\n",
        "    criteria=\"mean\",\n",
        "    adjust=2,\n",
        "    verbose=True,\n",
        "):\n",
        "    \"\"\"\n",
        "    Full data preprocessing pipeline including imputation, outlier removal, and feature selection.\n",
        "\n",
        "    This function applies several steps to preprocess the data:\n",
        "    - Imputes missing values\n",
        "    - Removes outliers using the ECOD method\n",
        "    - Computes feature importance using XGBoost\n",
        "    - Selects features based on importance scores\n",
        "\n",
        "    :param X_train: Training features.\n",
        "    :type X_train: pd.DataFrame\n",
        "    :param X_test: Test features.\n",
        "    :type X_test: pd.DataFrame\n",
        "    :param y_train: Training target labels.\n",
        "    :type y_train: pd.DataFrame or pd.Series\n",
        "    :param strategy: Strategy for imputation (default is \"median\").\n",
        "    :type strategy: str\n",
        "    :param contamination: Contamination rate for outlier removal (default is 0.01).\n",
        "    :type contamination: float\n",
        "    :param n_estimators: Number of boosting rounds for XGBoost (default is 10).\n",
        "    :type n_estimators: int\n",
        "    :param early_stopping_rounds: Number of rounds without improvement before stopping early (default is 8).\n",
        "    :type early_stopping_rounds: int\n",
        "    :param n_splits: Number of cross-validation splits for feature importance calculation (default is 10).\n",
        "    :type n_splits: int\n",
        "    :param eval_metric: Evaluation metric for XGBoost (default is \"rmse\").\n",
        "    :type eval_metric: str\n",
        "    :param criteria: Criteria for feature selection, either 'mean' or 'median' (default is 'mean').\n",
        "    :type criteria: str\n",
        "    :param verbose: If True, prints intermediate results and shows visualizations (default is True).\n",
        "    :type verbose: bool\n",
        "    :return: Preprocessed training and test datasets and the processed training labels.\n",
        "    :rtype: tuple of pd.DataFrame\n",
        "    \"\"\"\n",
        "\n",
        "    # Impute missing values\n",
        "    X_train_process, X_test_process = imput(X_train, X_test, strategy)\n",
        "\n",
        "    # Remove outliers\n",
        "    X_train_process, y_train_process = outlier(\n",
        "        X_train_process, y_train, contamination=contamination, verbose=verbose\n",
        "    )\n",
        "\n",
        "\n",
        "    # Compute feature importance using XGBoost\n",
        "    xgb_importance = xgb_feature_importance(\n",
        "        n_estimators=n_estimators,\n",
        "        early_stopping_rounds=early_stopping_rounds,\n",
        "        X_train=X_train_process.drop(\"id\", axis=1),\n",
        "        y_train=y_train_process.drop(\"id\", axis=1),\n",
        "        n_splits=n_splits,\n",
        "        eval_metric=eval_metric,\n",
        "        verbose=verbose,\n",
        "    )\n",
        "\n",
        "    # Select important features based on the chosen criteria\n",
        "    X_train_process, X_test_process = xgb_feature_select(\n",
        "        xgb_importance,\n",
        "        X_train_process,\n",
        "        X_test_process,\n",
        "        adjust=adjust,\n",
        "        criteria=criteria,\n",
        "        verbose=verbose,\n",
        "    )\n",
        "\n",
        "\n",
        "    return (\n",
        "        np.array(X_train_process),\n",
        "        np.array(X_test_process),\n",
        "        np.array(y_train_process.drop(\"id\", axis=1)),\n",
        "    )"
      ]
    },
    {
      "cell_type": "markdown",
      "metadata": {
        "id": "MuqG_cYS7eVW"
      },
      "source": [
        "## Import original data"
      ]
    },
    {
      "cell_type": "code",
      "execution_count": 4,
      "metadata": {
        "id": "X8sD_pic7D1i"
      },
      "outputs": [],
      "source": [
        "X_train_original = pd.read_csv(\"X_train.csv\")\n",
        "y_train_original = pd.read_csv(\"y_train.csv\")\n",
        "X_test_original = pd.read_csv(\"X_test.csv\")\n",
        "sample = pd.read_csv(\"sample.csv\")"
      ]
    },
    {
      "cell_type": "markdown",
      "metadata": {
        "id": "PlW7GFOew7MD"
      },
      "source": [
        "## Preprocess data"
      ]
    },
    {
      "cell_type": "code",
      "execution_count": 66,
      "metadata": {},
      "outputs": [
        {
          "name": "stdout",
          "output_type": "stream",
          "text": [
            "Use 'SimpleImputer' to impute missing value.\n"
          ]
        },
        {
          "name": "stderr",
          "output_type": "stream",
          "text": [
            "c:\\Python\\Python310\\lib\\site-packages\\pyod\\models\\base.py:423: UserWarning: y should not be presented in unsupervised learning.\n",
            "  warnings.warn(\n"
          ]
        }
      ],
      "source": [
        "# Combine X_train and y_train for outlier detection and imputation\n",
        "# data_train = X_train_original.copy()\n",
        "# data_train['brain_age'] = y_train_original['y']\n",
        "\n",
        "# # Step 1: Initial Imputation with Median\n",
        "# initial_imputer = SimpleImputer(strategy='median')\n",
        "# data_imputed_initial = pd.DataFrame(initial_imputer.fit_transform(data_train), columns=data_train.columns)\n",
        "X_train_imputed, X_test_imputed = imput(X_train_original, X_test_original, 'median')\n",
        "\n",
        "# Step 2: Track Missing Values\n",
        "missing_indicator = X_train_original.isna().astype(int)  # 1 if value was missing, else 0\n",
        "\n",
        "# Step 3: Detect and Remove Outliers Using ECOD\n",
        "# Initialize ECOD model and fit to the imputed data\n",
        "# ecod = ECOD(contamination=0.02)\n",
        "# ecod.fit(data_imputed_initial)\n",
        "mask = (\n",
        "        ECOD(contamination=0.03).fit(X_train_imputed, y_train_original).predict(X_train_imputed) != 1\n",
        "    ).astype(int) == 1\n",
        "X_no_outliers = pd.DataFrame(X_train_imputed[mask])\n",
        "y_no_outliers = pd.DataFrame(y_train_original[mask])\n",
        "\n",
        "# Get outlier predictions\n",
        "# outliers = ecod.predict(data_imputed_initial)  # 1 for outlier, 0 for inlier\n",
        "# data_no_outliers = data_imputed_initial[outliers == 0]  # Retain only inliers\n",
        "# missing_indicator = missing_indicator[outliers==0]\n",
        "missing_indicator = pd.DataFrame(missing_indicator[mask])\n",
        "\n",
        "# Optional: If you decide to keep all data but replace outliers with NaN\n",
        "# data_imputed_initial.loc[outliers == 1, :] = np.nan\n",
        "\n",
        "# Step 4: Re-Impute Initially Missing Values Using ECOD-Filtered Data\n",
        "# Use the indicator matrix to re-impute only the initially missing values\n",
        "final_imputer = SimpleImputer(strategy='median')  # Can try other imputation methods if needed\n",
        "# data_final = data_no_outliers.copy()\n",
        "data_final = X_no_outliers.copy()\n",
        "\n",
        "\n",
        "# Only re-impute values that were initially missing\n",
        "for column in data_final.columns:\n",
        "    # Filter out only the rows that were initially missing for this column\n",
        "    missing_indices = missing_indicator[column] == 1\n",
        "    \n",
        "    # Re-impute only these missing rows\n",
        "    if missing_indices.any():  # Ensure there are missing values to impute\n",
        "        data_final[column][missing_indices] = np.nan\n",
        "        # Impute using median of the non-outlier data in the column\n",
        "        imputed_values = final_imputer.fit_transform(data_final[[column]])\n",
        "        \n",
        "        # Assign only the imputed values for initially missing rows\n",
        "        data_final.loc[missing_indices, column] = imputed_values[missing_indices].squeeze()\n",
        "\n",
        "# Separate the final X_train and y_train after re-imputation\n",
        "# X_train_final = data_final.drop(columns=['brain_age'])\n",
        "# y_train_final = data_final['brain_age']\n",
        "X_train_final = data_final.reset_index(drop=True).drop('id', axis=1)\n",
        "y_train_final = y_no_outliers.reset_index(drop=True).drop('id', axis=1)"
      ]
    },
    {
      "cell_type": "code",
      "execution_count": 67,
      "metadata": {},
      "outputs": [
        {
          "data": {
            "image/png": "[encoded data removed]",
            "text/plain": [
              "<Figure size 576x504 with 1 Axes>"
            ]
          },
          "metadata": {
            "needs_background": "light"
          },
          "output_type": "display_data"
        },
        {
          "name": "stdout",
          "output_type": "stream",
          "text": [
            "There are 74 features selected.\n"
          ]
        }
      ],
      "source": [
        "# Compute feature importance using XGBoost\n",
        "xgb_importance = xgb_feature_importance(\n",
        "    n_estimators=200,\n",
        "    early_stopping_rounds=5,\n",
        "    X_train=X_train_final,\n",
        "    y_train=y_train_final,\n",
        "    n_splits=10,\n",
        "    eval_metric='rmse',\n",
        "    verbose=True,\n",
        ")\n",
        "\n",
        "# Select important features based on the chosen criteria\n",
        "X_train_selected, X_test_selected = xgb_feature_select(\n",
        "    xgb_importance,\n",
        "    X_train_final,\n",
        "    X_test_imputed,\n",
        "    adjust=2,\n",
        "    criteria='mean',\n",
        "    verbose=True,\n",
        ")"
      ]
    },
    {
      "cell_type": "code",
      "execution_count": 59,
      "metadata": {},
      "outputs": [
        {
          "name": "stderr",
          "output_type": "stream",
          "text": [
            "c:\\Python\\Python310\\lib\\site-packages\\sklearn\\linear_model\\_coordinate_descent.py:1614: DataConversionWarning: A column-vector y was passed when a 1d array was expected. Please change the shape of y to (n_samples, ), for example using ravel().\n",
            "  y = column_or_1d(y, warn=True)\n",
            "c:\\Python\\Python310\\lib\\site-packages\\sklearn\\linear_model\\_coordinate_descent.py:634: ConvergenceWarning: Objective did not converge. You might want to increase the number of iterations. Duality gap: 13.61491074107471, tolerance: 8.658509894736847\n",
            "  model = cd_fast.enet_coordinate_descent_gram(\n",
            "c:\\Python\\Python310\\lib\\site-packages\\sklearn\\linear_model\\_coordinate_descent.py:634: ConvergenceWarning: Objective did not converge. You might want to increase the number of iterations. Duality gap: 13.630991976358928, tolerance: 8.658509894736847\n",
            "  model = cd_fast.enet_coordinate_descent_gram(\n",
            "c:\\Python\\Python310\\lib\\site-packages\\sklearn\\linear_model\\_coordinate_descent.py:634: ConvergenceWarning: Objective did not converge. You might want to increase the number of iterations. Duality gap: 10.23389558461713, tolerance: 8.662886842105266\n",
            "  model = cd_fast.enet_coordinate_descent_gram(\n",
            "c:\\Python\\Python310\\lib\\site-packages\\sklearn\\linear_model\\_coordinate_descent.py:634: ConvergenceWarning: Objective did not converge. You might want to increase the number of iterations. Duality gap: 14.64389625595686, tolerance: 8.662886842105266\n",
            "  model = cd_fast.enet_coordinate_descent_gram(\n",
            "c:\\Python\\Python310\\lib\\site-packages\\sklearn\\linear_model\\_coordinate_descent.py:634: ConvergenceWarning: Objective did not converge. You might want to increase the number of iterations. Duality gap: 12.89682270107005, tolerance: 8.541755894736843\n",
            "  model = cd_fast.enet_coordinate_descent_gram(\n",
            "c:\\Python\\Python310\\lib\\site-packages\\sklearn\\linear_model\\_coordinate_descent.py:634: ConvergenceWarning: Objective did not converge. You might want to increase the number of iterations. Duality gap: 12.816527318715089, tolerance: 8.541755894736843\n",
            "  model = cd_fast.enet_coordinate_descent_gram(\n",
            "c:\\Python\\Python310\\lib\\site-packages\\sklearn\\linear_model\\_coordinate_descent.py:634: ConvergenceWarning: Objective did not converge. You might want to increase the number of iterations. Duality gap: 19.402148918150488, tolerance: 8.541755894736843\n",
            "  model = cd_fast.enet_coordinate_descent_gram(\n"
          ]
        },
        {
          "name": "stdout",
          "output_type": "stream",
          "text": [
            "Best alpha using built-in LassoCV: 0.39900723563937274\n",
            "Best score using built-in LassoCV: 0.44126762802345065\n",
            "55 features selected by Lasso:\n"
          ]
        }
      ],
      "source": [
        "# Feature selection using LASSO\n",
        "\n",
        "# Step 1: Scale Features\n",
        "scaler = StandardScaler()\n",
        "X_train_scaled = scaler.fit_transform(X_train_final)\n",
        "\n",
        "# Step 2: Perform LassoCV for Automatic Feature Selection\n",
        "# LassoCV performs cross-validated selection of the regularization parameter (alpha)\n",
        "lasso = LassoCV(cv=5, random_state=0, max_iter=10000)\n",
        "lasso.fit(X_train_scaled, y_train_final)\n",
        "\n",
        "# Best alpha and model score\n",
        "print(\"Best alpha using built-in LassoCV:\", lasso.alpha_)\n",
        "print(\"Best score using built-in LassoCV:\", lasso.score(X_train_scaled, y_train_final))\n",
        "\n",
        "# Step 3: Extract and Print Selected Features\n",
        "# Coefficients close to zero will be dropped\n",
        "coefficients = lasso.coef_\n",
        "selected_features = np.where(coefficients != 0)[0]\n",
        "\n",
        "print(f\"{len(selected_features)} features selected by Lasso:\")\n",
        "\n",
        "# Step 4: Create New Training Data with Only Selected Features\n",
        "X_train_selected = X_train_final.iloc[:, selected_features]"
      ]
    },
    {
      "cell_type": "code",
      "execution_count": 14,
      "metadata": {
        "colab": {
          "base_uri": "https://localhost:8080/",
          "height": 831
        },
        "id": "NWR4cnSusxCW",
        "outputId": "10d0f07f-a80e-4394-ac6a-0b850ed74a26"
      },
      "outputs": [
        {
          "name": "stdout",
          "output_type": "stream",
          "text": [
            "Use 'SimpleImputer' to impute missing value.\n"
          ]
        },
        {
          "name": "stderr",
          "output_type": "stream",
          "text": [
            "c:\\Python\\Python310\\lib\\site-packages\\pyod\\models\\base.py:423: UserWarning: y should not be presented in unsupervised learning.\n",
            "  warnings.warn(\n"
          ]
        },
        {
          "name": "stdout",
          "output_type": "stream",
          "text": [
            "The shape of X_train: (1187, 833). \n",
            "The shape of y_train: (1187, 2).\n"
          ]
        },
        {
          "data": {
            "image/png": "[encoded data removed]",
            "text/plain": [
              "<Figure size 576x504 with 1 Axes>"
            ]
          },
          "metadata": {
            "needs_background": "light"
          },
          "output_type": "display_data"
        },
        {
          "name": "stdout",
          "output_type": "stream",
          "text": [
            "There are 78 features selected.\n"
          ]
        }
      ],
      "source": [
        "# X_train, X_test, y_train = preprocess(\n",
        "#     X_train=X_train_original,\n",
        "#     X_test=X_test_original,\n",
        "#     y_train=y_train_original,\n",
        "#     strategy='median',\n",
        "#     contamination=0.02,\n",
        "#     n_estimators=200,\n",
        "#     early_stopping_rounds=5,\n",
        "#     n_splits=10,\n",
        "#     eval_metric=\"rmse\",\n",
        "#     adjust=2,\n",
        "#     criteria=\"mean\",\n",
        "#     verbose=True,\n",
        "# )"
      ]
    },
    {
      "cell_type": "code",
      "execution_count": 27,
      "metadata": {
        "colab": {
          "base_uri": "https://localhost:8080/"
        },
        "id": "l_2__qKfuRQf",
        "outputId": "e34031d2-b9bf-4003-9d82-33b89b0df1db"
      },
      "outputs": [
        {
          "ename": "NameError",
          "evalue": "name 'X_train' is not defined",
          "output_type": "error",
          "traceback": [
            "\u001b[1;31m---------------------------------------------------------------------------\u001b[0m",
            "\u001b[1;31mNameError\u001b[0m                                 Traceback (most recent call last)",
            "Input \u001b[1;32mIn [27]\u001b[0m, in \u001b[0;36m<cell line: 1>\u001b[1;34m()\u001b[0m\n\u001b[1;32m----> 1\u001b[0m \u001b[38;5;28mprint\u001b[39m(np\u001b[38;5;241m.\u001b[39misnan(\u001b[43mX_train\u001b[49m)\u001b[38;5;241m.\u001b[39msum(), np\u001b[38;5;241m.\u001b[39misnan(X_test)\u001b[38;5;241m.\u001b[39msum(), np\u001b[38;5;241m.\u001b[39misnan(y_train)\u001b[38;5;241m.\u001b[39msum())\n",
            "\u001b[1;31mNameError\u001b[0m: name 'X_train' is not defined"
          ]
        }
      ],
      "source": [
        "print(np.isnan(X_train).sum(), np.isnan(X_test).sum(), np.isnan(y_train).sum())"
      ]
    },
    {
      "cell_type": "markdown",
      "metadata": {},
      "source": [
        "# Model Selection\n"
      ]
    },
    {
      "cell_type": "code",
      "execution_count": 29,
      "metadata": {},
      "outputs": [],
      "source": [
        "# Standardize the features\n",
        "scaler = StandardScaler()\n",
        "X_train = scaler.fit_transform(X_train)  # Fit and transform on training data\n",
        "X_test= scaler.transform(X_test)"
      ]
    },
    {
      "cell_type": "markdown",
      "metadata": {},
      "source": [
        "Define function for grid search"
      ]
    },
    {
      "cell_type": "code",
      "execution_count": 20,
      "metadata": {},
      "outputs": [],
      "source": [
        "def gridsearch_best_estimator(estimator, params, X_train, y_train):\n",
        "\n",
        "    gridsearch = GridSearchCV(estimator=estimator, param_grid=params, scoring='r2', cv=3, n_jobs=-1, verbose=1)\n",
        "    gridsearch.fit(X_train, y_train)\n",
        "\n",
        "    print(f\"Best parameters for {estimator.__class__.__name__}: {gridsearch.best_params_}\")\n",
        "    print('Score: ', gridsearch.best_score_)\n",
        "\n",
        "    return gridsearch.best_estimator_"
      ]
    },
    {
      "cell_type": "markdown",
      "metadata": {},
      "source": [
        "### Set up each model and their parameter grid"
      ]
    },
    {
      "cell_type": "markdown",
      "metadata": {},
      "source": [
        "Ramdom forest"
      ]
    },
    {
      "cell_type": "code",
      "execution_count": 30,
      "metadata": {},
      "outputs": [
        {
          "name": "stdout",
          "output_type": "stream",
          "text": [
            "Fitting 3 folds for each of 36 candidates, totalling 108 fits\n"
          ]
        },
        {
          "name": "stderr",
          "output_type": "stream",
          "text": [
            "c:\\Python\\Python310\\lib\\site-packages\\sklearn\\model_selection\\_search.py:910: DataConversionWarning: A column-vector y was passed when a 1d array was expected. Please change the shape of y to (n_samples,), for example using ravel().\n",
            "  self.best_estimator_.fit(X, y, **fit_params)\n",
            "c:\\Python\\Python310\\lib\\site-packages\\sklearn\\ensemble\\_forest.py:416: FutureWarning: `max_features='auto'` has been deprecated in 1.1 and will be removed in 1.3. To keep the past behaviour, explicitly set `max_features=1.0` or remove this parameter as it is also the default value for RandomForestRegressors and ExtraTreesRegressors.\n",
            "  warn(\n"
          ]
        },
        {
          "name": "stdout",
          "output_type": "stream",
          "text": [
            "Best parameters for RandomForestRegressor: {'max_depth': None, 'max_features': 'auto', 'n_estimators': 3000}\n",
            "Score:  0.4946363941230784\n"
          ]
        },
        {
          "data": {
            "text/plain": [
              "['rf_best.joblib']"
            ]
          },
          "execution_count": 30,
          "metadata": {},
          "output_type": "execute_result"
        }
      ],
      "source": [
        "rf_model = RandomForestRegressor(random_state=0)\n",
        "rf_parameters = {\n",
        "    'n_estimators': [1000, 2000, 3000],\n",
        "    'max_features': ['auto', 'sqrt', 'log2'],\n",
        "    'max_depth': [None, 10, 20, 30]\n",
        "}\n",
        "rf_best = gridsearch_best_estimator(rf_model, rf_parameters, X_train, y_train)\n",
        "joblib.dump(rf_best, 'rf_best.joblib')"
      ]
    },
    {
      "cell_type": "markdown",
      "metadata": {},
      "source": [
        "SVM"
      ]
    },
    {
      "cell_type": "code",
      "execution_count": 33,
      "metadata": {},
      "outputs": [
        {
          "name": "stdout",
          "output_type": "stream",
          "text": [
            "Fitting 3 folds for each of 128 candidates, totalling 384 fits\n"
          ]
        },
        {
          "name": "stderr",
          "output_type": "stream",
          "text": [
            "c:\\Python\\Python310\\lib\\site-packages\\sklearn\\utils\\validation.py:1111: DataConversionWarning: A column-vector y was passed when a 1d array was expected. Please change the shape of y to (n_samples, ), for example using ravel().\n",
            "  y = column_or_1d(y, warn=True)\n"
          ]
        },
        {
          "name": "stdout",
          "output_type": "stream",
          "text": [
            "Best parameters for SVR: {'C': 50.0, 'epsilon': 0.1, 'gamma': 'scale', 'kernel': 'rbf'}\n",
            "Score:  0.5005933418018058\n"
          ]
        },
        {
          "data": {
            "text/plain": [
              "['svr_best.joblib']"
            ]
          },
          "execution_count": 33,
          "metadata": {},
          "output_type": "execute_result"
        }
      ],
      "source": [
        "svr_model = SVR()\n",
        "svr_parameters = {\n",
        "    'kernel': ['rbf'],\n",
        "    'C': np.linspace(50,100,8),\n",
        "    'epsilon' : np.logspace(-8, -1, 8),\n",
        "    'gamma': ['scale', 'auto']\n",
        "}\n",
        "svr_best = gridsearch_best_estimator(svr_model, svr_parameters, X_train, y_train)\n",
        "joblib.dump(svr_best, 'svr_best.joblib')"
      ]
    },
    {
      "cell_type": "markdown",
      "metadata": {},
      "source": [
        "Gradient boost"
      ]
    },
    {
      "cell_type": "code",
      "execution_count": 27,
      "metadata": {},
      "outputs": [
        {
          "name": "stdout",
          "output_type": "stream",
          "text": [
            "Fitting 3 folds for each of 90 candidates, totalling 270 fits\n"
          ]
        },
        {
          "name": "stderr",
          "output_type": "stream",
          "text": [
            "\n",
            "KeyboardInterrupt\n",
            "\n"
          ]
        }
      ],
      "source": [
        "gbr_model = GradientBoostingRegressor(random_state=0)\n",
        "gbr_parameters = {\n",
        "    'n_estimators': [1000, 2000, 3000],\n",
        "    'learning_rate': np.logspace(-4, 0, 10),\n",
        "    'max_depth': [3, 5, 7]\n",
        "}\n",
        "gbr_best = gridsearch_best_estimator(gbr_model, gbr_parameters, X_train, y_train)\n",
        "joblib.dump(gbr_best, 'gbr_best.joblib')"
      ]
    },
    {
      "cell_type": "markdown",
      "metadata": {},
      "source": [
        "XGBoost"
      ]
    },
    {
      "cell_type": "code",
      "execution_count": 34,
      "metadata": {},
      "outputs": [
        {
          "name": "stdout",
          "output_type": "stream",
          "text": [
            "Fitting 3 folds for each of 30 candidates, totalling 90 fits\n",
            "Best parameters for XGBRegressor: {'learning_rate': 0.016681005372000592, 'max_depth': 3, 'n_estimators': 2000}\n",
            "Score:  0.5106358357718374\n"
          ]
        },
        {
          "data": {
            "text/plain": [
              "['xgb_best.joblib']"
            ]
          },
          "execution_count": 34,
          "metadata": {},
          "output_type": "execute_result"
        }
      ],
      "source": [
        "xgb_model = XGBRegressor(objective='reg:squarederror', random_state=0)\n",
        "xgb_parameters = {\n",
        "    'n_estimators': [2000],\n",
        "    'max_depth': [3, 5, 7],\n",
        "    'learning_rate': np.logspace(-4, 0, 10)\n",
        "}\n",
        "xgb_best = gridsearch_best_estimator(xgb_model, xgb_parameters, X_train, y_train)\n",
        "joblib.dump(xgb_best, 'xgb_best.joblib')"
      ]
    },
    {
      "cell_type": "markdown",
      "metadata": {},
      "source": [
        "LightGBM"
      ]
    },
    {
      "cell_type": "code",
      "execution_count": 35,
      "metadata": {},
      "outputs": [
        {
          "name": "stdout",
          "output_type": "stream",
          "text": [
            "Fitting 3 folds for each of 30 candidates, totalling 90 fits\n"
          ]
        },
        {
          "name": "stderr",
          "output_type": "stream",
          "text": [
            "c:\\Python\\Python310\\lib\\site-packages\\sklearn\\utils\\validation.py:1111: DataConversionWarning: A column-vector y was passed when a 1d array was expected. Please change the shape of y to (n_samples, ), for example using ravel().\n",
            "  y = column_or_1d(y, warn=True)\n"
          ]
        },
        {
          "name": "stdout",
          "output_type": "stream",
          "text": [
            "[LightGBM] [Info] Auto-choosing col-wise multi-threading, the overhead of testing was 0.001225 seconds.\n",
            "You can set `force_col_wise=true` to remove the overhead.\n",
            "[LightGBM] [Info] Total Bins 19890\n",
            "[LightGBM] [Info] Number of data points in the train set: 1187, number of used features: 78\n",
            "[LightGBM] [Info] Start training from score 69.875316\n",
            "Best parameters for LGBMRegressor: {'boosting_type': 'gbdt', 'learning_rate': 0.005994842503189409, 'n_estimators': 1000, 'num_leaves': 16}\n",
            "Score:  0.5025992000388345\n"
          ]
        },
        {
          "data": {
            "text/plain": [
              "['lgb_best.joblib']"
            ]
          },
          "execution_count": 35,
          "metadata": {},
          "output_type": "execute_result"
        }
      ],
      "source": [
        "lgb_model = lgb.LGBMRegressor(random_state=0)\n",
        "lgb_parameters = {\n",
        "    'boosting_type': ['gbdt'],\n",
        "    'n_estimators': [1000],\n",
        "    'learning_rate': np.logspace(-4, 0, 10),\n",
        "    'num_leaves': np.logspace(3, 5, 3, base=2).astype(int)\n",
        "}\n",
        "lgb_best = gridsearch_best_estimator(lgb_model, lgb_parameters, X_train, y_train)\n",
        "joblib.dump(lgb_best, 'lgb_best.joblib')"
      ]
    },
    {
      "cell_type": "markdown",
      "metadata": {},
      "source": [
        "CatBoost"
      ]
    },
    {
      "cell_type": "code",
      "execution_count": 36,
      "metadata": {},
      "outputs": [
        {
          "name": "stdout",
          "output_type": "stream",
          "text": [
            "Fitting 3 folds for each of 90 candidates, totalling 270 fits\n",
            "Best parameters for CatBoostRegressor: {'depth': 6, 'iterations': 300, 'learning_rate': 0.046415888336127774}\n",
            "Score:  0.5146414048044726\n"
          ]
        },
        {
          "data": {
            "text/plain": [
              "['cb_best.joblib']"
            ]
          },
          "execution_count": 36,
          "metadata": {},
          "output_type": "execute_result"
        }
      ],
      "source": [
        "cb_model = cb.CatBoostRegressor(verbose=0, random_state=0)\n",
        "cb_parameters = {\n",
        "    'iterations': [100, 200, 300],\n",
        "    'depth': [4, 6, 8],\n",
        "    'learning_rate': np.logspace(-4, 0, 10)\n",
        "}\n",
        "cb_best = gridsearch_best_estimator(cb_model, cb_parameters, X_train, y_train)\n",
        "joblib.dump(cb_best, 'cb_best.joblib')"
      ]
    },
    {
      "cell_type": "markdown",
      "metadata": {},
      "source": [
        "### Combine all models into a stacked regressor"
      ]
    },
    {
      "cell_type": "code",
      "execution_count": 37,
      "metadata": {},
      "outputs": [],
      "source": [
        "# Load the models \n",
        "rf_best = joblib.load('rf_best.joblib')\n",
        "svr_best = joblib.load('svr_best.joblib')\n",
        "gbr_best = joblib.load('gbr_best.joblib')\n",
        "xgb_best = joblib.load('xgb_best.joblib')\n",
        "lgb_best = joblib.load('lgb_best.joblib')\n",
        "cb_best = joblib.load('cb_best.joblib')\n",
        "# Final estimator\n",
        "final_estimator = Ridge()\n",
        "\n",
        "# Stacked regressor setup\n",
        "estimators = [\n",
        "    ('lgb', lgb_best),\n",
        "    ('rf', rf_best),\n",
        "    ('gbr', gbr_best),\n",
        "    ('svr', svr_best),\n",
        "    ('xgb', xgb_best),\n",
        "    ('catboost', cb_best)\n",
        "]\n",
        "\n",
        "stacked_regressor = StackingRegressor(estimators=estimators, final_estimator=final_estimator,n_jobs=-1)"
      ]
    },
    {
      "cell_type": "markdown",
      "metadata": {
        "id": "HPJFIaH6HVp6"
      },
      "source": [
        "# Model"
      ]
    },
    {
      "cell_type": "code",
      "execution_count": 68,
      "metadata": {
        "colab": {
          "base_uri": "https://localhost:8080/"
        },
        "id": "I9dM35Mv8rF7",
        "outputId": "b0df24b0-14a7-4bd5-9cfb-16170f5ec2ac"
      },
      "outputs": [
        {
          "name": "stdout",
          "output_type": "stream",
          "text": [
            "Fold 1: RMSE = 5.6657, R² = 0.6282\n",
            "Fold 2: RMSE = 5.2598, R² = 0.5772\n",
            "Fold 3: RMSE = 7.3310, R² = 0.3749\n",
            "Fold 4: RMSE = 6.4178, R² = 0.4832\n",
            "Fold 5: RMSE = 5.7418, R² = 0.6671\n",
            "Fold 6: RMSE = 6.2386, R² = 0.6047\n",
            "Fold 7: RMSE = 5.7884, R² = 0.5743\n",
            "Fold 8: RMSE = 6.6289, R² = 0.5586\n",
            "Fold 9: RMSE = 6.1737, R² = 0.5865\n",
            "Fold 10: RMSE = 6.0760, R² = 0.4319\n",
            "Fold 11: RMSE = 6.2649, R² = 0.5728\n",
            "Fold 12: RMSE = 6.0154, R² = 0.5879\n",
            "Fold 13: RMSE = 5.6067, R² = 0.5816\n",
            "Fold 14: RMSE = 8.2733, R² = 0.3943\n",
            "Fold 15: RMSE = 6.6681, R² = 0.5846\n",
            "Fold 16: RMSE = 6.8254, R² = 0.5720\n",
            "Fold 17: RMSE = 7.5428, R² = 0.3125\n",
            "Fold 18: RMSE = 5.4950, R² = 0.5888\n",
            "Fold 19: RMSE = 5.7454, R² = 0.5809\n",
            "Fold 20: RMSE = 5.9919, R² = 0.6592\n",
            "\n",
            "Average RMSE: 6.2875\n",
            "Average R²: 0.5461\n",
            "\n",
            "Best R² Score: 0.6671\n",
            "\n",
            "Predictions on X_test:\n",
            "[60.540855 76.95699  72.5823   75.64979  73.39771  59.09762  65.38839\n",
            " 71.26846  69.92804  62.555714 74.60127  75.89246  59.17212  68.77954\n",
            " 74.36289  66.368286 73.79979  72.63552  65.20278  63.918312 62.332893\n",
            " 56.492245 78.847565 80.031075 65.83072  69.53923  78.73994  75.494576\n",
            " 69.09329  64.95015  63.484444 73.07252  71.30235  68.578545 71.82304\n",
            " 63.189068 65.85031  75.5979   65.95494  64.84702  66.73465  69.607704\n",
            " 71.16978  73.38925  55.00068  76.89239  65.27851  78.73856  76.69856\n",
            " 79.12168  80.83402  63.228874 78.299225 75.173706 76.69418  80.32346\n",
            " 75.47068  73.01296  67.85742  74.393906 73.547195 69.64168  69.44501\n",
            " 72.808495 76.65563  64.831474 74.427185 59.349632 78.56895  80.639145\n",
            " 63.88186  76.49906  69.636284 73.474915 64.487946 63.879715 78.48669\n",
            " 65.43995  71.93191  59.779747 78.53898  76.31457  73.64336  64.53283\n",
            " 79.35673  73.95371  68.290474 65.83841  70.33566  61.517796 66.96044\n",
            " 70.00542  74.14352  65.428856 75.226326 78.268456 71.333496 60.33086\n",
            " 58.441177 76.80719  75.60771  67.349785 62.613724 79.91669  77.7126\n",
            " 61.422653 70.10919  79.4311   72.395035 76.72558  73.54235  68.761475\n",
            " 72.18668  70.02409  62.704422 83.243256 71.933235 72.92185  68.47582\n",
            " 76.17676  72.836136 67.49279  69.91902  76.95865  74.87271  75.00626\n",
            " 56.34192  72.254684 82.108215 73.131485 76.87032  61.869423 74.94443\n",
            " 72.70486  71.27874  72.50505  64.03354  77.61685  64.79692  80.47891\n",
            " 79.324356 72.06831  75.25517  65.40255  69.80831  63.056988 70.13199\n",
            " 76.19206  78.44734  71.82858  62.821163 71.52475  63.56837  70.17503\n",
            " 61.50199  65.06643  68.9003   67.05134  79.0673   65.38216  83.077194\n",
            " 68.134705 64.44229  62.288597 78.08186  66.982185 72.4461   72.45911\n",
            " 68.42309  75.24695  74.66187  68.250786 71.67212  76.86382  74.83106\n",
            " 66.84014  67.91512  64.31314  77.983154 70.98665  73.4712   66.928185\n",
            " 68.23807  75.98494  78.489876 60.617867 67.855644 70.12255  79.83856\n",
            " 79.20125  56.270573 61.650063 77.82298  57.622738 79.4979   55.380066\n",
            " 64.187195 73.77206  78.21696  75.270905 74.43178  71.2188   74.30736\n",
            " 67.49846  66.854485 75.79182  57.25591  74.412346 61.637337 77.67642\n",
            " 66.12292  67.11966  75.83671  74.17347  81.44848  62.413666 71.04368\n",
            " 66.193344 63.81311  75.52449  66.830605 71.478516 68.853714 70.58392\n",
            " 70.41835  70.44013  72.58139  73.83583  73.8349   63.884853 58.731274\n",
            " 56.920807 71.68686  67.50138  71.14435  62.911564 81.243576 69.465485\n",
            " 71.28102  72.31019  55.424667 67.687935 66.8998   66.77758  67.570404\n",
            " 76.7361   62.056786 70.79779  70.83539  68.295555 71.128395 62.519398\n",
            " 79.17438  72.507484 80.34443  79.947495 61.119476 61.93411  64.907906\n",
            " 77.589874 65.59955  77.36732  68.35194  80.01415  56.03376  74.922676\n",
            " 61.73803  65.36146  77.48401  65.11085  67.48594  83.0192   79.67171\n",
            " 73.79195  77.168396 64.9833   57.10675  68.78864  78.35846  79.565926\n",
            " 68.877235 63.29813  80.991516 73.867455 79.421875 61.45138  77.49465\n",
            " 76.42082  62.204292 73.556206 63.8945   80.47176  72.25805  72.82812\n",
            " 73.52436  75.23685  65.77727  77.919586 76.651825 68.04116  67.95119\n",
            " 79.26576  53.67018  62.10847  65.79692  70.803566 75.07407  69.55405\n",
            " 79.02951  77.01844  71.262184 66.773254 68.90452  67.78671  83.9585\n",
            " 67.84352  73.92339  53.72744  68.70355  75.988396 68.8441   56.20911\n",
            " 75.57189  59.710793 60.275696 71.00816  79.097984 79.15004  69.464676\n",
            " 66.10275  63.562542 68.22782  77.753624 76.33136  74.44494  72.98669\n",
            " 61.3769   53.26807  81.97377  69.87092  73.64588  72.8186   69.089264\n",
            " 76.08346  71.9605   67.958275 75.9328   65.92283  81.75398  66.407135\n",
            " 68.598816 77.31711  72.72054  73.133224 65.821526 70.60398  70.126755\n",
            " 62.38862  55.487812 74.45185  66.19838  77.701004 64.829414 76.27795\n",
            " 71.39236  75.15844  72.88137  63.31666  75.29758  56.90117  80.45636\n",
            " 65.009964 72.77365  75.839806 66.35122  69.69197  76.54305  73.31973\n",
            " 63.216904 76.269226 70.20119  70.700775 72.36943  80.24426  60.62726\n",
            " 77.01386  71.503265 62.199963 66.61239  69.546074 64.29314  63.616886\n",
            " 67.65721  64.51142  60.67674  63.262707 76.285446 68.635056 63.32383\n",
            " 59.178253 70.10633  66.01598  65.49674  77.64439  81.75936  69.583626\n",
            " 66.86887  69.824715 60.862812 63.692886 75.02346  56.90163  61.075207\n",
            " 78.320465 70.18038  57.38574  66.35562  65.974396 66.0167   69.17766\n",
            " 60.55269  63.766693 77.98026  60.255283 76.73352  62.505264 74.39457\n",
            " 62.20317  74.932    74.27209  74.58527  64.41143  66.0316   75.55687\n",
            " 70.97124  64.93691  59.341564 63.853214 80.045204 55.676422 75.62537\n",
            " 69.90417  73.34667  67.99139  76.56204  65.44975  73.647224 59.054962\n",
            " 75.04007  61.956013 70.02334  74.84277  64.38351  59.3949   71.88344\n",
            " 74.127716 63.41247  60.230816 70.08183  62.842037 70.242546 57.241425\n",
            " 59.44111  74.86951  65.43199  68.87223  77.47686  73.3869   65.46654\n",
            " 65.998665 70.53387  63.592148 81.91478  69.853676 67.41901  67.37439\n",
            " 65.85093  76.61815  66.07262  80.77248  60.455616 53.884865 63.05187\n",
            " 70.818985 63.791462 81.65127  56.828926 62.773193 79.8738   53.394028\n",
            " 78.083694 71.23783  57.39326  72.0684   69.63758  69.20177  55.35121\n",
            " 78.58249  56.576565 75.579735 57.609127 61.465923 77.84156  64.023056\n",
            " 78.90305  78.04004  67.13936  59.056732 60.518078 72.70659  81.654434\n",
            " 74.74415  74.465935 61.411385 73.79754  68.82294  79.2464   67.46217\n",
            " 65.83424  74.47728  82.45776  61.278206 70.997215 67.949814 76.42731\n",
            " 61.962048 72.62591  80.57145  63.153088 65.91648  80.90356  71.11835\n",
            " 59.316555 68.71263  60.92361  58.941895 77.61691  65.415405 71.71817\n",
            " 80.8163   65.13528  63.749924 61.4406   73.69021  79.157974 71.74232\n",
            " 71.12628  75.46899  76.010086 73.253746 69.02104  62.00234  71.422485\n",
            " 74.664696 56.59634  79.73421  77.91093  62.699753 78.33033  72.29522\n",
            " 65.4045   80.355995 80.66972  78.51355  68.88614  66.719986 68.30471\n",
            " 58.626076 76.08753  74.065285 80.88411  57.85852  81.94046  77.6638\n",
            " 63.4923   71.01962  76.8629   57.505493 83.064186 85.494026 72.55075\n",
            " 78.58393  59.328655 54.01368  58.027916 80.09432  62.980736 76.87961\n",
            " 74.04299  61.012882 62.523464 68.99474  57.067856 78.96158  74.940994\n",
            " 81.24909  73.17967  79.758705 61.465656 61.19495  73.244804 63.896366\n",
            " 57.541096 80.904465 59.015182 69.62607  60.484768 74.136246 65.93797\n",
            " 70.947426 72.610886 63.13338  80.534874 57.813396 66.67747  75.83836\n",
            " 79.27311  61.417416 65.56581  83.27754  79.152405 77.54582  60.519154\n",
            " 70.425095 78.59479  75.07448  75.130775 83.29383  64.616165 54.922054\n",
            " 80.34801  67.759155 77.62822  61.367805 61.476578 72.411095 70.92538\n",
            " 79.54123  75.32628  69.24205  60.219643 79.15581  78.51156  73.86109\n",
            " 74.43049  63.925175 71.098816 63.858326 69.82416  72.83213  72.89395\n",
            " 69.77688  65.05876  68.48044  75.77368  64.11692  71.95904  61.840862\n",
            " 56.703762 68.375084 70.051796 57.45748  73.12867  72.531815 69.315735\n",
            " 57.15137  61.959038 79.30859  61.149307 68.19278  73.09411  74.98308\n",
            " 61.644928 57.656773 64.82583  63.42709  73.60698  70.07112  69.66752\n",
            " 83.87575  73.79569  73.58717  74.47526  72.27237  72.14775  63.439056\n",
            " 70.66131  69.89734  74.54191  66.78064  80.43418  71.29523  64.728355\n",
            " 74.716736 63.776268 69.7459   78.31763  65.60604  74.14147  68.82374\n",
            " 55.680813 76.682945 69.41223  64.84834  81.3424   61.093033 75.08325\n",
            " 65.51006  72.11848  75.96046  73.78836  77.38581  70.038055 61.080917\n",
            " 77.285446 81.329506 69.14469  75.33021  62.911797 67.79367  65.02378\n",
            " 71.49426  72.33382  50.79634  59.130733 72.10925  69.96674  68.05327\n",
            " 81.046425 72.94007  58.08956  73.28106  73.948975 82.41197  64.90423\n",
            " 66.43788  77.38984  63.608654 64.33836  65.912315 77.437386 74.403854\n",
            " 62.77147  77.192024 70.88183  73.10162  67.74302  78.78341  61.012886\n",
            " 70.98205  68.52697  53.32379  68.494865 61.23772  71.93277  62.32989\n",
            " 60.439957 69.885124 66.81199  70.53411  73.223465 55.073235 78.42911\n",
            " 65.22059  76.98001  79.57534  65.40071  71.21153  56.797054 76.729004\n",
            " 79.14971  63.91641  72.14325  74.56156  71.00913  62.95997 ]\n"
          ]
        }
      ],
      "source": [
        "# Initialize KFold\n",
        "kf = KFold(n_splits=20, shuffle=True, random_state=88)\n",
        "\n",
        "rmse_scores = []\n",
        "r2_scores = []\n",
        "best_r2_score = -np.inf  # Initialize best R² to a very low value\n",
        "best_model = None  # To store the best model\n",
        "best_scaler = None  # To store the scaler for the best model\n",
        "\n",
        "# Loop through each fold\n",
        "for fold_num, (train_index, val_index) in enumerate(kf.split(X_train_selected), start=1):\n",
        "    # Split the data into training and validation sets for this fold\n",
        "    X_train_fold, X_val_fold = X_train_selected.iloc[train_index], X_train_selected.iloc[val_index]\n",
        "    y_train_fold, y_val_fold = y_train_final.iloc[train_index], y_train_final.iloc[val_index]\n",
        "\n",
        "    # Standardize the features\n",
        "    scaler = StandardScaler()\n",
        "    X_train_fold = scaler.fit_transform(X_train_fold)  # Fit and transform on training data\n",
        "    X_val_fold = scaler.transform(X_val_fold)\n",
        "\n",
        "    # Create and fit the model\n",
        "    \n",
        "    model = XGBRegressor(\n",
        "        n_estimators=100000,\n",
        "        random_state=88,\n",
        "        learning_rate=0.05,\n",
        "        max_depth=8,\n",
        "        subsample=0.85,\n",
        "        colsample_bytree=0.95,\n",
        "        early_stopping_rounds=20,\n",
        "        eval_metric='rmse'\n",
        "    )\n",
        "\n",
        "    model.fit(X_train_fold, y_train_fold,\n",
        "              eval_set=[(X_val_fold, y_val_fold)],\n",
        "              verbose=False)\n",
        "    \n",
        "    # model = stacked_regressor\n",
        "\n",
        "    # model.fit(X_train_fold, y_train_fold)\n",
        "\n",
        "    # Predict on the validation set\n",
        "    y_pred = model.predict(X_val_fold)\n",
        "\n",
        "    # Calculate RMSE and R²\n",
        "    rmse = np.sqrt(mean_squared_error(y_val_fold, y_pred))\n",
        "    r2 = r2_score(y_val_fold, y_pred)\n",
        "\n",
        "    # Print metrics for the current fold\n",
        "    print(f\"Fold {fold_num}: RMSE = {rmse:.4f}, R² = {r2:.4f}\")\n",
        "\n",
        "    rmse_scores.append(rmse)\n",
        "    r2_scores.append(r2)\n",
        "\n",
        "    # Keep track of the best model based on R² score\n",
        "    if r2 > best_r2_score:\n",
        "        best_r2_score = r2\n",
        "        best_model = model  # Store the model with the best R²\n",
        "        best_scaler = scaler  # Store the corresponding scaler\n",
        "\n",
        "# Print the average RMSE and R² across all folds\n",
        "print(f\"\\nAverage RMSE: {np.mean(rmse_scores):.4f}\")\n",
        "print(f\"Average R²: {np.mean(r2_scores):.4f}\")\n",
        "print(f\"\\nBest R² Score: {best_r2_score:.4f}\")\n",
        "\n",
        "# Use the best model and corresponding scaler to predict on X_test\n",
        "X_test_standardized = best_scaler.transform(X_test_selected)  # Standardize X_test using the best scaler\n",
        "y_test_pred = best_model.predict(X_test_standardized)\n",
        "\n",
        "# Print or return the predictions\n",
        "print(\"\\nPredictions on X_test:\")\n",
        "print(y_test_pred)"
      ]
    },
    {
      "cell_type": "code",
      "execution_count": 65,
      "metadata": {
        "id": "jpZDfH25-BZL"
      },
      "outputs": [],
      "source": [
        "sample['y'] = y_test_pred\n",
        "sample.to_csv(\"submission.csv\", index=False)"
      ]
    }
  ],
  "metadata": {
    "colab": {
      "authorship_tag": "ABX9TyNbzp1zUTU6QWLeMvIuWBvL",
      "collapsed_sections": [
        "kkykmU0ywxqy"
      ],
      "include_colab_link": true,
      "mount_file_id": "1_1pBu2qDEde58SFaYnz08J0dFTVIGuxy",
      "provenance": []
    },
    "kernelspec": {
      "display_name": "Python 3",
      "name": "python3"
    },
    "language_info": {
      "codemirror_mode": {
        "name": "ipython",
        "version": 3
      },
      "file_extension": ".py",
      "mimetype": "text/x-python",
      "name": "python",
      "nbconvert_exporter": "python",
      "pygments_lexer": "ipython3",
      "version": "3.9.10"
    }
  },
  "nbformat": 4,
  "nbformat_minor": 0
}
