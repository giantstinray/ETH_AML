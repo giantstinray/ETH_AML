{
  "cells": [
    {
      "cell_type": "markdown",
      "metadata": {
        "colab_type": "text",
        "id": "view-in-github"
      },
      "source": [
        "<a href=\"https://colab.research.google.com/github/lygitdata/aml_project/blob/main/project1/code/main.ipynb\" target=\"_parent\"><img src=\"https://colab.research.google.com/assets/colab-badge.svg\" alt=\"Open In Colab\"/></a>"
      ]
    },
    {
      "cell_type": "markdown",
      "metadata": {
        "id": "HZWK1WBm68iq"
      },
      "source": [
        "# Install & import necessary libraries"
      ]
    },
    {
      "cell_type": "code",
      "execution_count": 1,
      "metadata": {
        "id": "pvXevtY-l14Z"
      },
      "outputs": [
        {
          "name": "stdout",
          "output_type": "stream",
          "text": [
            "Note: you may need to restart the kernel to use updated packages.\n"
          ]
        },
        {
          "name": "stderr",
          "output_type": "stream",
          "text": [
            "WARNING: Ignoring invalid distribution -ip (c:\\python\\python310\\lib\\site-packages)\n",
            "WARNING: Ignoring invalid distribution -cipy (c:\\python\\python310\\lib\\site-packages)\n",
            "WARNING: Ignoring invalid distribution -ip (c:\\python\\python310\\lib\\site-packages)\n",
            "WARNING: Ignoring invalid distribution -cipy (c:\\python\\python310\\lib\\site-packages)\n",
            "WARNING: Ignoring invalid distribution -ip (c:\\python\\python310\\lib\\site-packages)\n",
            "WARNING: Ignoring invalid distribution -cipy (c:\\python\\python310\\lib\\site-packages)\n",
            "WARNING: Ignoring invalid distribution -ip (c:\\python\\python310\\lib\\site-packages)\n",
            "WARNING: Ignoring invalid distribution -cipy (c:\\python\\python310\\lib\\site-packages)\n",
            "WARNING: Ignoring invalid distribution -ip (c:\\python\\python310\\lib\\site-packages)\n",
            "WARNING: Ignoring invalid distribution -cipy (c:\\python\\python310\\lib\\site-packages)\n",
            "WARNING: Ignoring invalid distribution -ip (c:\\python\\python310\\lib\\site-packages)\n",
            "WARNING: Ignoring invalid distribution -cipy (c:\\python\\python310\\lib\\site-packages)\n"
          ]
        }
      ],
      "source": [
        "pip install pyod -q"
      ]
    },
    {
      "cell_type": "code",
      "execution_count": 23,
      "metadata": {
        "id": "iC_nGjod6L6W"
      },
      "outputs": [],
      "source": [
        "import matplotlib.pyplot as plt\n",
        "import numpy as np\n",
        "import pandas as pd\n",
        "import seaborn as sns\n",
        "import tensorflow as tf\n",
        "from pyod.models.ecod import ECOD\n",
        "from scipy import stats\n",
        "from sklearn.feature_selection import SelectFromModel\n",
        "from sklearn.impute import SimpleImputer, KNNImputer\n",
        "from sklearn.metrics import mean_squared_error, r2_score\n",
        "from sklearn.model_selection import KFold, train_test_split, GridSearchCV\n",
        "from sklearn.preprocessing import StandardScaler\n",
        "from sklearn.svm import SVR\n",
        "from tensorflow import keras\n",
        "from tensorflow.keras import layers, regularizers\n",
        "from tensorflow.keras.models import Sequential\n",
        "from xgboost import XGBRegressor\n",
        "from sklearn import ensemble, model_selection\n",
        "from sklearn.ensemble import RandomForestRegressor, GradientBoostingRegressor, StackingRegressor\n",
        "from sklearn.linear_model import Ridge, LassoCV\n",
        "from sklearn.pipeline import make_pipeline, Pipeline\n",
        "import lightgbm as lgb\n",
        "import catboost as cb\n",
        "import joblib"
      ]
    },
    {
      "cell_type": "markdown",
      "metadata": {
        "id": "iUHWUYP36_yZ"
      },
      "source": [
        "# Prepare data"
      ]
    },
    {
      "cell_type": "markdown",
      "metadata": {
        "id": "kkykmU0ywxqy"
      },
      "source": [
        "## Helper functions"
      ]
    },
    {
      "cell_type": "code",
      "execution_count": 10,
      "metadata": {
        "id": "0Rces5z9wxEj"
      },
      "outputs": [],
      "source": [
        "def impute_column_rf(df, target_col):\n",
        "    \"\"\"\n",
        "    Imputation using random forest\n",
        "    \"\"\"\n",
        "    pd.options.mode.chained_assignment = None\n",
        "    df_complete = df[df[target_col].notnull()].copy()\n",
        "    df_missing = df[df[target_col].isnull()].copy()\n",
        "\n",
        "    if df_complete.empty or df_missing.empty:\n",
        "        return df\n",
        "\n",
        "    X_complete = df_complete.drop(columns=target_col)\n",
        "    y_complete = df_complete[target_col]\n",
        "\n",
        "    model = RandomForestRegressor(n_estimators=16, random_state=88, n_jobs=-1)\n",
        "    model.fit(X_complete, y_complete)\n",
        "\n",
        "    X_missing = df_missing.drop(columns=target_col)\n",
        "    predictions = model.predict(X_missing)\n",
        "    df.loc[df[target_col].isnull(), target_col] = predictions\n",
        "\n",
        "    return df\n",
        "\n",
        "def impute_column_KNN(df, n_neighbors=5):\n",
        "    \"\"\"\n",
        "    Imputation using KNN\n",
        "    \"\"\"\n",
        "    df_copy = df.copy()\n",
        "    \n",
        "    # Initialize KNNImputer with specified number of neighbors\n",
        "    imputer = KNNImputer(n_neighbors=n_neighbors)\n",
        "\n",
        "    # Apply KNN imputer to the DataFrame\n",
        "    imputed_array = imputer.fit_transform(df_copy)\n",
        "    \n",
        "    # Convert the imputed array back to a DataFrame with original column names\n",
        "    df_imputed = pd.DataFrame(imputed_array, columns=df_copy.columns)\n",
        "    \n",
        "    return df_imputed\n",
        "\n",
        "\n",
        "\n",
        "def imput(train, test, strategy=\"median\"):\n",
        "    \"\"\"\n",
        "    Impute missing values in the training and test datasets.\n",
        "\n",
        "    This function addresses missing values in the `train` and `test` datasets by applying the specified imputation strategy.\n",
        "    It supports various methods, including \"mean\" and \"median\" (default), as well as \"random_forest\" for more advanced imputation.\n",
        "    The function returns two DataFrames: the imputed training dataset and the imputed test dataset.\n",
        "\n",
        "    :param train: Training dataset containing features and possibly missing values.\n",
        "    :type train: pd.DataFrame\n",
        "    :param test: Test dataset containing features and possibly missing values.\n",
        "    :type test: pd.DataFrame\n",
        "    :param strategy: Imputation strategy to use for missing values (default is \"median\"). Options include \"mean\", \"median\", and \"random_forest\".\n",
        "    :type strategy: str\n",
        "    :return: Tuple containing the imputed training and test datasets.\n",
        "    :rtype: tuple of pd.DataFrame\n",
        "    \"\"\"\n",
        "    if strategy == \"random_forest\":\n",
        "      print(\"Use 'random_forest' to impute missing value.\")\n",
        "      for col in train.columns:\n",
        "          if train[col].isnull().any():\n",
        "              train_imputed = impute_column_rf(train, col)\n",
        "      for col in test.columns:\n",
        "          if test[col].isnull().any():\n",
        "              test_imputed = impute_column_rf(test, col)\n",
        "    elif strategy == \"KNN\":\n",
        "      print(\"Use 'KNN' to impute missing value.\")\n",
        "      train_imputed = impute_column_KNN(train)\n",
        "      test_imputed = impute_column_KNN(test)\n",
        "    else:\n",
        "      print(\"Use 'SimpleImputer' to impute missing value.\")\n",
        "      imputer = SimpleImputer(strategy=strategy)\n",
        "      train_imputed = pd.DataFrame(\n",
        "          imputer.fit_transform(train), columns=train.columns\n",
        "      )\n",
        "      test_imputed = pd.DataFrame(\n",
        "          imputer.transform(test), columns=test.columns\n",
        "      )\n",
        "    \n",
        "    return train_imputed, test_imputed\n",
        "\n",
        "\n",
        "\n",
        "def outlier(X_train, y_train, contamination=0.01, verbose=False):\n",
        "    \"\"\"\n",
        "    Remove outliers from training data using the ECOD (Empirical Cumulative Distribution) method.\n",
        "\n",
        "    This function identifies and removes outliers from the training dataset based on the specified contamination\n",
        "    rate using ECOD. It resets the index after removing outliers to ensure continuous row numbers.\n",
        "\n",
        "    :param X_train: Training features.\n",
        "    :type X_train: pd.DataFrame\n",
        "    :param y_train: Training target labels.\n",
        "    :type y_train: pd.DataFrame or pd.Series\n",
        "    :param contamination: The proportion of outliers in the data (default is 0.01).\n",
        "    :type contamination: float\n",
        "    :param verbose: If True, prints the shapes of the resulting datasets after outlier removal (default is False).\n",
        "    :type verbose: bool\n",
        "    :return: Training features and labels after outlier removal.\n",
        "    :rtype: tuple of pd.DataFrame\n",
        "    \"\"\"\n",
        "    mask = (\n",
        "        ECOD(contamination=contamination).fit(X_train, y_train).predict(X_train) != 1\n",
        "    ).astype(int) == 1\n",
        "    X_new = pd.DataFrame(X_train[mask]).reset_index(drop=True)\n",
        "    y_new = pd.DataFrame(y_train[mask]).reset_index(drop=True)\n",
        "\n",
        "    if verbose:\n",
        "        print(\n",
        "            f\"The shape of X_train: {X_new.shape}. \\nThe shape of y_train: {y_new.shape}.\"\n",
        "        )\n",
        "\n",
        "    return X_new, y_new\n",
        "\n",
        "\n",
        "def xgb_feature_importance(\n",
        "    n_estimators,\n",
        "    early_stopping_rounds,\n",
        "    X_train,\n",
        "    y_train,\n",
        "    n_splits,\n",
        "    eval_metric,\n",
        "    verbose=False,\n",
        "):\n",
        "    \"\"\"\n",
        "    Perform K-fold cross-validation and compute feature importance using XGBoost.\n",
        "\n",
        "    This function trains an XGBoost model on multiple K-folds of the training data, calculates feature importance\n",
        "    for each fold, and then aggregates the importance scores. Optionally, it can display a bar plot of the top features.\n",
        "\n",
        "    :param n_estimators: Number of boosting rounds.\n",
        "    :type n_estimators: int\n",
        "    :param early_stopping_rounds: Number of rounds without improvement before stopping early.\n",
        "    :type early_stopping_rounds: int\n",
        "    :param X_train: Training features.\n",
        "    :type X_train: pd.DataFrame\n",
        "    :param y_train: Training target labels.\n",
        "    :type y_train: pd.DataFrame or pd.Series\n",
        "    :param n_splits: Number of cross-validation splits.\n",
        "    :type n_splits: int\n",
        "    :param eval_metric: Evaluation metric to optimize (e.g., \"rmse\").\n",
        "    :type eval_metric: str\n",
        "    :param verbose: If True, plots a bar chart of the top 50 feature importances (default is False).\n",
        "    :type verbose: bool\n",
        "    :return: A dictionary containing feature importance for each fold and cumulative importance.\n",
        "    :rtype: dict\n",
        "    \"\"\"\n",
        "    kf_xgb = KFold(n_splits=n_splits, shuffle=True, random_state=88)\n",
        "    all_feature_dict = {}\n",
        "    cumulative_importance = np.zeros(len(X_train.columns))\n",
        "    fold_num = 1\n",
        "\n",
        "    for train_index, val_index in kf_xgb.split(X_train):\n",
        "        # Split the data into training and validation sets for this foldfscale\n",
        "        X_train_fold, X_val_fold = X_train.iloc[train_index], X_train.iloc[val_index]\n",
        "        y_train_fold, y_val_fold = y_train.iloc[train_index], y_train.iloc[val_index]\n",
        "\n",
        "        # Initialize and fit the XGBoost model\n",
        "        xgb = XGBRegressor(\n",
        "            n_estimators=n_estimators,\n",
        "            random_state=88,\n",
        "            eval_metric=eval_metric,\n",
        "            early_stopping_rounds=early_stopping_rounds,\n",
        "        )\n",
        "\n",
        "        xgb.fit(\n",
        "            X_train_fold,\n",
        "            y_train_fold,\n",
        "            eval_set=[(X_val_fold, y_val_fold)],\n",
        "            verbose=False,\n",
        "        )\n",
        "\n",
        "        # Get feature importance for the current fold\n",
        "        importances = xgb.feature_importances_\n",
        "\n",
        "        # Accumulate the importance scores\n",
        "        cumulative_importance += importances\n",
        "        feature_importance_df = pd.DataFrame(\n",
        "            {\"Feature\": X_train.columns, \"Importance\": importances}\n",
        "        ).sort_values(by=\"Importance\", ascending=False)\n",
        "        all_feature_dict[f\"fold{fold_num}\"] = feature_importance_df\n",
        "\n",
        "        fold_num += 1\n",
        "\n",
        "    # After all folds, create a final DataFrame with summed feature importance\n",
        "    final_feature_importance_df = pd.DataFrame(\n",
        "        {\"Feature\": X_train.columns, \"Importance\": cumulative_importance}\n",
        "    ).sort_values(by=\"Importance\", ascending=False)\n",
        "\n",
        "    if verbose:\n",
        "        plt.figure(figsize=(8, 7))\n",
        "        sns.barplot(\n",
        "            x=\"Importance\",\n",
        "            y=\"Feature\",\n",
        "            hue=\"Feature\",\n",
        "            data=final_feature_importance_df[0:50],\n",
        "            palette=\"viridis\",\n",
        "        )\n",
        "        plt.xlabel(\"Cumulative Importance\")\n",
        "        plt.ylabel(\"Feature\")\n",
        "        plt.title(\"Top 50 Feature Importance from XGBoost Model\")\n",
        "        plt.tight_layout()\n",
        "        plt.show()\n",
        "\n",
        "    return {\"each\": all_feature_dict, \"sum\": final_feature_importance_df}\n",
        "\n",
        "\n",
        "def xgb_feature_select(xgb_importance, X_train, X_test, adjust=1, criteria=\"mean\", verbose=True):\n",
        "    \"\"\"\n",
        "    Select features based on XGBoost feature importance.\n",
        "\n",
        "    This function selects features from the training and test datasets based on the cumulative feature importance\n",
        "    scores from the XGBoost model. You can choose to keep features with importance above the mean or median importance.\n",
        "\n",
        "    :param xgb_importance: Dictionary containing feature importance results.\n",
        "    :type xgb_importance: dict\n",
        "    :param X_train: Training features.\n",
        "    :type X_train: pd.DataFrame\n",
        "    :param X_test: Test features.\n",
        "    :type X_test: pd.DataFrame\n",
        "    :param criteria: Criteria to select features, either 'mean' or 'median' (default is 'mean').\n",
        "    :type criteria: str\n",
        "    :param verbose: If True, prints the number of selected features (default is True).\n",
        "    :type verbose: bool\n",
        "    :return: Reduced training and test datasets with selected features.\n",
        "    :rtype: tuple of pd.DataFrame\n",
        "    \"\"\"\n",
        "    if criteria == \"mean\":\n",
        "        selected_feature = np.array(\n",
        "            xgb_importance[\"sum\"][\"Feature\"][\n",
        "                xgb_importance[\"sum\"][\"Importance\"]\n",
        "                >= np.mean(xgb_importance[\"sum\"][\"Importance\"]) * adjust\n",
        "            ]\n",
        "        )\n",
        "        if verbose:\n",
        "            print(f\"There are {len(selected_feature)} features selected.\")\n",
        "        X_train_new = X_train[selected_feature]\n",
        "        X_test_new = X_test[selected_feature]\n",
        "        return X_train_new, X_test_new\n",
        "    elif criteria == \"median\":\n",
        "        selected_feature = np.array(\n",
        "            xgb_importance[\"sum\"][\"Feature\"][\n",
        "                xgb_importance[\"sum\"][\"Importance\"]\n",
        "                >= np.mean(xgb_importance[\"sum\"][\"Importance\"]) * adjust\n",
        "            ]\n",
        "        )\n",
        "        if verbose:\n",
        "            print(f\"There are {len(selected_feature)} features selected.\")\n",
        "        X_train_new = X_train[selected_feature]\n",
        "        X_test_new = X_test[selected_feature]\n",
        "        return X_train_new, X_test_new\n",
        "    else:\n",
        "        print(\"The `criteria` must be either 'mean' or 'median'.\")\n",
        "\n",
        "\n",
        "def preprocess(\n",
        "    X_train,\n",
        "    X_test,\n",
        "    y_train,\n",
        "    strategy=\"median\",\n",
        "    contamination=0.01,\n",
        "    n_estimators=10,\n",
        "    early_stopping_rounds=8,\n",
        "    n_splits=10,\n",
        "    eval_metric=\"rmse\",\n",
        "    criteria=\"mean\",\n",
        "    adjust=2,\n",
        "    verbose=True,\n",
        "):\n",
        "    \"\"\"\n",
        "    Full data preprocessing pipeline including imputation, outlier removal, and feature selection.\n",
        "\n",
        "    This function applies several steps to preprocess the data:\n",
        "    - Imputes missing values\n",
        "    - Removes outliers using the ECOD method\n",
        "    - Computes feature importance using XGBoost\n",
        "    - Selects features based on importance scores\n",
        "\n",
        "    :param X_train: Training features.\n",
        "    :type X_train: pd.DataFrame\n",
        "    :param X_test: Test features.\n",
        "    :type X_test: pd.DataFrame\n",
        "    :param y_train: Training target labels.\n",
        "    :type y_train: pd.DataFrame or pd.Series\n",
        "    :param strategy: Strategy for imputation (default is \"median\").\n",
        "    :type strategy: str\n",
        "    :param contamination: Contamination rate for outlier removal (default is 0.01).\n",
        "    :type contamination: float\n",
        "    :param n_estimators: Number of boosting rounds for XGBoost (default is 10).\n",
        "    :type n_estimators: int\n",
        "    :param early_stopping_rounds: Number of rounds without improvement before stopping early (default is 8).\n",
        "    :type early_stopping_rounds: int\n",
        "    :param n_splits: Number of cross-validation splits for feature importance calculation (default is 10).\n",
        "    :type n_splits: int\n",
        "    :param eval_metric: Evaluation metric for XGBoost (default is \"rmse\").\n",
        "    :type eval_metric: str\n",
        "    :param criteria: Criteria for feature selection, either 'mean' or 'median' (default is 'mean').\n",
        "    :type criteria: str\n",
        "    :param verbose: If True, prints intermediate results and shows visualizations (default is True).\n",
        "    :type verbose: bool\n",
        "    :return: Preprocessed training and test datasets and the processed training labels.\n",
        "    :rtype: tuple of pd.DataFrame\n",
        "    \"\"\"\n",
        "\n",
        "    # Impute missing values\n",
        "    X_train_process, X_test_process = imput(X_train, X_test, strategy)\n",
        "\n",
        "    # Remove outliers\n",
        "    X_train_process, y_train_process = outlier(\n",
        "        X_train_process, y_train, contamination=contamination, verbose=verbose\n",
        "    )\n",
        "\n",
        "\n",
        "    # Compute feature importance using XGBoost\n",
        "    xgb_importance = xgb_feature_importance(\n",
        "        n_estimators=n_estimators,\n",
        "        early_stopping_rounds=early_stopping_rounds,\n",
        "        X_train=X_train_process.drop(\"id\", axis=1),\n",
        "        y_train=y_train_process.drop(\"id\", axis=1),\n",
        "        n_splits=n_splits,\n",
        "        eval_metric=eval_metric,\n",
        "        verbose=verbose,\n",
        "    )\n",
        "\n",
        "    # Select important features based on the chosen criteria\n",
        "    X_train_process, X_test_process = xgb_feature_select(\n",
        "        xgb_importance,\n",
        "        X_train_process,\n",
        "        X_test_process,\n",
        "        adjust=adjust,\n",
        "        criteria=criteria,\n",
        "        verbose=verbose,\n",
        "    )\n",
        "\n",
        "\n",
        "    return (\n",
        "        np.array(X_train_process),\n",
        "        np.array(X_test_process),\n",
        "        np.array(y_train_process.drop(\"id\", axis=1)),\n",
        "    )"
      ]
    },
    {
      "cell_type": "markdown",
      "metadata": {
        "id": "MuqG_cYS7eVW"
      },
      "source": [
        "## Import original data"
      ]
    },
    {
      "cell_type": "code",
      "execution_count": 4,
      "metadata": {
        "id": "X8sD_pic7D1i"
      },
      "outputs": [],
      "source": [
        "X_train_original = pd.read_csv(\"X_train.csv\")\n",
        "y_train_original = pd.read_csv(\"y_train.csv\")\n",
        "X_test_original = pd.read_csv(\"X_test.csv\")\n",
        "sample = pd.read_csv(\"sample.csv\")"
      ]
    },
    {
      "cell_type": "markdown",
      "metadata": {
        "id": "PlW7GFOew7MD"
      },
      "source": [
        "## Preprocess data"
      ]
    },
    {
      "cell_type": "code",
      "execution_count": 14,
      "metadata": {
        "colab": {
          "base_uri": "https://localhost:8080/",
          "height": 831
        },
        "id": "NWR4cnSusxCW",
        "outputId": "10d0f07f-a80e-4394-ac6a-0b850ed74a26"
      },
      "outputs": [
        {
          "name": "stdout",
          "output_type": "stream",
          "text": [
            "Use 'SimpleImputer' to impute missing value.\n"
          ]
        },
        {
          "name": "stderr",
          "output_type": "stream",
          "text": [
            "c:\\Python\\Python310\\lib\\site-packages\\pyod\\models\\base.py:423: UserWarning: y should not be presented in unsupervised learning.\n",
            "  warnings.warn(\n"
          ]
        },
        {
          "name": "stdout",
          "output_type": "stream",
          "text": [
            "The shape of X_train: (1187, 833). \n",
            "The shape of y_train: (1187, 2).\n"
          ]
        },
        {
          "data": {
            "image/png": "[encoded data removed]",
            "text/plain": [
              "<Figure size 576x504 with 1 Axes>"
            ]
          },
          "metadata": {
            "needs_background": "light"
          },
          "output_type": "display_data"
        },
        {
          "name": "stdout",
          "output_type": "stream",
          "text": [
            "There are 78 features selected.\n"
          ]
        }
      ],
      "source": [
        "X_train, X_test, y_train = preprocess(\n",
        "    X_train=X_train_original,\n",
        "    X_test=X_test_original,\n",
        "    y_train=y_train_original,\n",
        "    strategy='median',\n",
        "    contamination=0.02,\n",
        "    n_estimators=200,\n",
        "    early_stopping_rounds=5,\n",
        "    n_splits=10,\n",
        "    eval_metric=\"rmse\",\n",
        "    adjust=2,\n",
        "    criteria=\"mean\",\n",
        "    verbose=True,\n",
        ")"
      ]
    },
    {
      "cell_type": "code",
      "execution_count": 12,
      "metadata": {
        "colab": {
          "base_uri": "https://localhost:8080/"
        },
        "id": "l_2__qKfuRQf",
        "outputId": "e34031d2-b9bf-4003-9d82-33b89b0df1db"
      },
      "outputs": [
        {
          "name": "stdout",
          "output_type": "stream",
          "text": [
            "0 0 0\n"
          ]
        }
      ],
      "source": [
        "print(np.isnan(X_train).sum(), np.isnan(X_test).sum(), np.isnan(y_train).sum())"
      ]
    },
    {
      "cell_type": "markdown",
      "metadata": {},
      "source": [
        "# Model Selection\n"
      ]
    },
    {
      "cell_type": "code",
      "execution_count": 29,
      "metadata": {},
      "outputs": [],
      "source": [
        "# Standardize the features\n",
        "scaler = StandardScaler()\n",
        "X_train = scaler.fit_transform(X_train)  # Fit and transform on training data\n",
        "X_test= scaler.transform(X_test)"
      ]
    },
    {
      "cell_type": "markdown",
      "metadata": {},
      "source": [
        "Define function for grid search"
      ]
    },
    {
      "cell_type": "code",
      "execution_count": 20,
      "metadata": {},
      "outputs": [],
      "source": [
        "def gridsearch_best_estimator(estimator, params, X_train, y_train):\n",
        "\n",
        "    gridsearch = GridSearchCV(estimator=estimator, param_grid=params, scoring='r2', cv=3, n_jobs=-1, verbose=1)\n",
        "    gridsearch.fit(X_train, y_train)\n",
        "\n",
        "    print(f\"Best parameters for {estimator.__class__.__name__}: {gridsearch.best_params_}\")\n",
        "    print('Score: ', gridsearch.best_score_)\n",
        "\n",
        "    return gridsearch.best_estimator_"
      ]
    },
    {
      "cell_type": "markdown",
      "metadata": {},
      "source": [
        "### Set up each model and their parameter grid"
      ]
    },
    {
      "cell_type": "markdown",
      "metadata": {},
      "source": [
        "Ramdom forest"
      ]
    },
    {
      "cell_type": "code",
      "execution_count": 30,
      "metadata": {},
      "outputs": [
        {
          "name": "stdout",
          "output_type": "stream",
          "text": [
            "Fitting 3 folds for each of 36 candidates, totalling 108 fits\n"
          ]
        },
        {
          "name": "stderr",
          "output_type": "stream",
          "text": [
            "c:\\Python\\Python310\\lib\\site-packages\\sklearn\\model_selection\\_search.py:910: DataConversionWarning: A column-vector y was passed when a 1d array was expected. Please change the shape of y to (n_samples,), for example using ravel().\n",
            "  self.best_estimator_.fit(X, y, **fit_params)\n",
            "c:\\Python\\Python310\\lib\\site-packages\\sklearn\\ensemble\\_forest.py:416: FutureWarning: `max_features='auto'` has been deprecated in 1.1 and will be removed in 1.3. To keep the past behaviour, explicitly set `max_features=1.0` or remove this parameter as it is also the default value for RandomForestRegressors and ExtraTreesRegressors.\n",
            "  warn(\n"
          ]
        },
        {
          "name": "stdout",
          "output_type": "stream",
          "text": [
            "Best parameters for RandomForestRegressor: {'max_depth': None, 'max_features': 'auto', 'n_estimators': 3000}\n",
            "Score:  0.4946363941230784\n"
          ]
        },
        {
          "data": {
            "text/plain": [
              "['rf_best.joblib']"
            ]
          },
          "execution_count": 30,
          "metadata": {},
          "output_type": "execute_result"
        }
      ],
      "source": [
        "rf_model = RandomForestRegressor(random_state=0)\n",
        "rf_parameters = {\n",
        "    'n_estimators': [1000, 2000, 3000],\n",
        "    'max_features': ['auto', 'sqrt', 'log2'],\n",
        "    'max_depth': [None, 10, 20, 30]\n",
        "}\n",
        "rf_best = gridsearch_best_estimator(rf_model, rf_parameters, X_train, y_train)\n",
        "joblib.dump(rf_best, 'rf_best.joblib')"
      ]
    },
    {
      "cell_type": "markdown",
      "metadata": {},
      "source": [
        "SVM"
      ]
    },
    {
      "cell_type": "code",
      "execution_count": 33,
      "metadata": {},
      "outputs": [
        {
          "name": "stdout",
          "output_type": "stream",
          "text": [
            "Fitting 3 folds for each of 128 candidates, totalling 384 fits\n"
          ]
        },
        {
          "name": "stderr",
          "output_type": "stream",
          "text": [
            "c:\\Python\\Python310\\lib\\site-packages\\sklearn\\utils\\validation.py:1111: DataConversionWarning: A column-vector y was passed when a 1d array was expected. Please change the shape of y to (n_samples, ), for example using ravel().\n",
            "  y = column_or_1d(y, warn=True)\n"
          ]
        },
        {
          "name": "stdout",
          "output_type": "stream",
          "text": [
            "Best parameters for SVR: {'C': 50.0, 'epsilon': 0.1, 'gamma': 'scale', 'kernel': 'rbf'}\n",
            "Score:  0.5005933418018058\n"
          ]
        },
        {
          "data": {
            "text/plain": [
              "['svr_best.joblib']"
            ]
          },
          "execution_count": 33,
          "metadata": {},
          "output_type": "execute_result"
        }
      ],
      "source": [
        "svr_model = SVR()\n",
        "svr_parameters = {\n",
        "    'kernel': ['rbf'],\n",
        "    'C': np.linspace(50,100,8),\n",
        "    'epsilon' : np.logspace(-8, -1, 8),\n",
        "    'gamma': ['scale', 'auto']\n",
        "}\n",
        "svr_best = gridsearch_best_estimator(svr_model, svr_parameters, X_train, y_train)\n",
        "joblib.dump(svr_best, 'svr_best.joblib')"
      ]
    },
    {
      "cell_type": "markdown",
      "metadata": {},
      "source": [
        "Gradient boost"
      ]
    },
    {
      "cell_type": "code",
      "execution_count": 27,
      "metadata": {},
      "outputs": [
        {
          "name": "stdout",
          "output_type": "stream",
          "text": [
            "Fitting 3 folds for each of 90 candidates, totalling 270 fits\n"
          ]
        },
        {
          "name": "stderr",
          "output_type": "stream",
          "text": [
            "\n",
            "KeyboardInterrupt\n",
            "\n"
          ]
        }
      ],
      "source": [
        "gbr_model = GradientBoostingRegressor(random_state=0)\n",
        "gbr_parameters = {\n",
        "    'n_estimators': [1000, 2000, 3000],\n",
        "    'learning_rate': np.logspace(-4, 0, 10),\n",
        "    'max_depth': [3, 5, 7]\n",
        "}\n",
        "gbr_best = gridsearch_best_estimator(gbr_model, gbr_parameters, X_train, y_train)\n",
        "joblib.dump(gbr_best, 'gbr_best.joblib')"
      ]
    },
    {
      "cell_type": "markdown",
      "metadata": {},
      "source": [
        "XGBoost"
      ]
    },
    {
      "cell_type": "code",
      "execution_count": 34,
      "metadata": {},
      "outputs": [
        {
          "name": "stdout",
          "output_type": "stream",
          "text": [
            "Fitting 3 folds for each of 30 candidates, totalling 90 fits\n",
            "Best parameters for XGBRegressor: {'learning_rate': 0.016681005372000592, 'max_depth': 3, 'n_estimators': 2000}\n",
            "Score:  0.5106358357718374\n"
          ]
        },
        {
          "data": {
            "text/plain": [
              "['xgb_best.joblib']"
            ]
          },
          "execution_count": 34,
          "metadata": {},
          "output_type": "execute_result"
        }
      ],
      "source": [
        "xgb_model = XGBRegressor(objective='reg:squarederror', random_state=0)\n",
        "xgb_parameters = {\n",
        "    'n_estimators': [2000],\n",
        "    'max_depth': [3, 5, 7],\n",
        "    'learning_rate': np.logspace(-4, 0, 10)\n",
        "}\n",
        "xgb_best = gridsearch_best_estimator(xgb_model, xgb_parameters, X_train, y_train)\n",
        "joblib.dump(xgb_best, 'xgb_best.joblib')"
      ]
    },
    {
      "cell_type": "markdown",
      "metadata": {},
      "source": [
        "LightGBM"
      ]
    },
    {
      "cell_type": "code",
      "execution_count": 35,
      "metadata": {},
      "outputs": [
        {
          "name": "stdout",
          "output_type": "stream",
          "text": [
            "Fitting 3 folds for each of 30 candidates, totalling 90 fits\n"
          ]
        },
        {
          "name": "stderr",
          "output_type": "stream",
          "text": [
            "c:\\Python\\Python310\\lib\\site-packages\\sklearn\\utils\\validation.py:1111: DataConversionWarning: A column-vector y was passed when a 1d array was expected. Please change the shape of y to (n_samples, ), for example using ravel().\n",
            "  y = column_or_1d(y, warn=True)\n"
          ]
        },
        {
          "name": "stdout",
          "output_type": "stream",
          "text": [
            "[LightGBM] [Info] Auto-choosing col-wise multi-threading, the overhead of testing was 0.001225 seconds.\n",
            "You can set `force_col_wise=true` to remove the overhead.\n",
            "[LightGBM] [Info] Total Bins 19890\n",
            "[LightGBM] [Info] Number of data points in the train set: 1187, number of used features: 78\n",
            "[LightGBM] [Info] Start training from score 69.875316\n",
            "Best parameters for LGBMRegressor: {'boosting_type': 'gbdt', 'learning_rate': 0.005994842503189409, 'n_estimators': 1000, 'num_leaves': 16}\n",
            "Score:  0.5025992000388345\n"
          ]
        },
        {
          "data": {
            "text/plain": [
              "['lgb_best.joblib']"
            ]
          },
          "execution_count": 35,
          "metadata": {},
          "output_type": "execute_result"
        }
      ],
      "source": [
        "lgb_model = lgb.LGBMRegressor(random_state=0)\n",
        "lgb_parameters = {\n",
        "    'boosting_type': ['gbdt'],\n",
        "    'n_estimators': [1000],\n",
        "    'learning_rate': np.logspace(-4, 0, 10),\n",
        "    'num_leaves': np.logspace(3, 5, 3, base=2).astype(int)\n",
        "}\n",
        "lgb_best = gridsearch_best_estimator(lgb_model, lgb_parameters, X_train, y_train)\n",
        "joblib.dump(lgb_best, 'lgb_best.joblib')"
      ]
    },
    {
      "cell_type": "markdown",
      "metadata": {},
      "source": [
        "CatBoost"
      ]
    },
    {
      "cell_type": "code",
      "execution_count": 36,
      "metadata": {},
      "outputs": [
        {
          "name": "stdout",
          "output_type": "stream",
          "text": [
            "Fitting 3 folds for each of 90 candidates, totalling 270 fits\n",
            "Best parameters for CatBoostRegressor: {'depth': 6, 'iterations': 300, 'learning_rate': 0.046415888336127774}\n",
            "Score:  0.5146414048044726\n"
          ]
        },
        {
          "data": {
            "text/plain": [
              "['cb_best.joblib']"
            ]
          },
          "execution_count": 36,
          "metadata": {},
          "output_type": "execute_result"
        }
      ],
      "source": [
        "cb_model = cb.CatBoostRegressor(verbose=0, random_state=0)\n",
        "cb_parameters = {\n",
        "    'iterations': [100, 200, 300],\n",
        "    'depth': [4, 6, 8],\n",
        "    'learning_rate': np.logspace(-4, 0, 10)\n",
        "}\n",
        "cb_best = gridsearch_best_estimator(cb_model, cb_parameters, X_train, y_train)\n",
        "joblib.dump(cb_best, 'cb_best.joblib')"
      ]
    },
    {
      "cell_type": "markdown",
      "metadata": {},
      "source": [
        "### Combine all models into a stacked regressor"
      ]
    },
    {
      "cell_type": "code",
      "execution_count": 37,
      "metadata": {},
      "outputs": [],
      "source": [
        "# Load the models \n",
        "rf_best = joblib.load('rf_best.joblib')\n",
        "svr_best = joblib.load('svr_best.joblib')\n",
        "gbr_best = joblib.load('gbr_best.joblib')\n",
        "xgb_best = joblib.load('xgb_best.joblib')\n",
        "lgb_best = joblib.load('lgb_best.joblib')\n",
        "cb_best = joblib.load('cb_best.joblib')\n",
        "# Final estimator\n",
        "final_estimator = Ridge()\n",
        "\n",
        "# Stacked regressor setup\n",
        "estimators = [\n",
        "    ('lgb', lgb_best),\n",
        "    ('rf', rf_best),\n",
        "    ('gbr', gbr_best),\n",
        "    ('svr', svr_best),\n",
        "    ('xgb', xgb_best),\n",
        "    ('catboost', cb_best)\n",
        "]\n",
        "\n",
        "stacked_regressor = StackingRegressor(estimators=estimators, final_estimator=final_estimator,n_jobs=-1)"
      ]
    },
    {
      "cell_type": "markdown",
      "metadata": {
        "id": "HPJFIaH6HVp6"
      },
      "source": [
        "# Model"
      ]
    },
    {
      "cell_type": "code",
      "execution_count": 40,
      "metadata": {
        "colab": {
          "base_uri": "https://localhost:8080/"
        },
        "id": "I9dM35Mv8rF7",
        "outputId": "b0df24b0-14a7-4bd5-9cfb-16170f5ec2ac"
      },
      "outputs": [
        {
          "name": "stderr",
          "output_type": "stream",
          "text": [
            "c:\\Python\\Python310\\lib\\site-packages\\sklearn\\ensemble\\_stacking.py:865: DataConversionWarning: A column-vector y was passed when a 1d array was expected. Please change the shape of y to (n_samples, ), for example using ravel().\n",
            "  y = column_or_1d(y, warn=True)\n",
            "c:\\Python\\Python310\\lib\\site-packages\\joblib\\externals\\loky\\process_executor.py:702: UserWarning: A worker stopped while some jobs were given to the executor. This can be caused by a too short worker timeout or by a memory leak.\n",
            "  warnings.warn(\n"
          ]
        },
        {
          "name": "stdout",
          "output_type": "stream",
          "text": [
            "Fold 1: RMSE = 5.4462, R² = 0.7084\n"
          ]
        },
        {
          "name": "stderr",
          "output_type": "stream",
          "text": [
            "c:\\Python\\Python310\\lib\\site-packages\\sklearn\\ensemble\\_stacking.py:865: DataConversionWarning: A column-vector y was passed when a 1d array was expected. Please change the shape of y to (n_samples, ), for example using ravel().\n",
            "  y = column_or_1d(y, warn=True)\n"
          ]
        },
        {
          "name": "stdout",
          "output_type": "stream",
          "text": [
            "Fold 2: RMSE = 4.9856, R² = 0.6831\n"
          ]
        },
        {
          "name": "stderr",
          "output_type": "stream",
          "text": [
            "c:\\Python\\Python310\\lib\\site-packages\\sklearn\\ensemble\\_stacking.py:865: DataConversionWarning: A column-vector y was passed when a 1d array was expected. Please change the shape of y to (n_samples, ), for example using ravel().\n",
            "  y = column_or_1d(y, warn=True)\n"
          ]
        },
        {
          "name": "stdout",
          "output_type": "stream",
          "text": [
            "Fold 3: RMSE = 4.6201, R² = 0.7113\n"
          ]
        },
        {
          "name": "stderr",
          "output_type": "stream",
          "text": [
            "c:\\Python\\Python310\\lib\\site-packages\\sklearn\\ensemble\\_stacking.py:865: DataConversionWarning: A column-vector y was passed when a 1d array was expected. Please change the shape of y to (n_samples, ), for example using ravel().\n",
            "  y = column_or_1d(y, warn=True)\n"
          ]
        },
        {
          "name": "stdout",
          "output_type": "stream",
          "text": [
            "Fold 4: RMSE = 7.4836, R² = 0.4646\n"
          ]
        },
        {
          "name": "stderr",
          "output_type": "stream",
          "text": [
            "c:\\Python\\Python310\\lib\\site-packages\\sklearn\\ensemble\\_stacking.py:865: DataConversionWarning: A column-vector y was passed when a 1d array was expected. Please change the shape of y to (n_samples, ), for example using ravel().\n",
            "  y = column_or_1d(y, warn=True)\n"
          ]
        },
        {
          "name": "stdout",
          "output_type": "stream",
          "text": [
            "Fold 5: RMSE = 6.7450, R² = 0.4636\n"
          ]
        },
        {
          "name": "stderr",
          "output_type": "stream",
          "text": [
            "c:\\Python\\Python310\\lib\\site-packages\\sklearn\\ensemble\\_stacking.py:865: DataConversionWarning: A column-vector y was passed when a 1d array was expected. Please change the shape of y to (n_samples, ), for example using ravel().\n",
            "  y = column_or_1d(y, warn=True)\n"
          ]
        },
        {
          "name": "stdout",
          "output_type": "stream",
          "text": [
            "Fold 6: RMSE = 6.8567, R² = 0.4977\n"
          ]
        },
        {
          "name": "stderr",
          "output_type": "stream",
          "text": [
            "c:\\Python\\Python310\\lib\\site-packages\\sklearn\\ensemble\\_stacking.py:865: DataConversionWarning: A column-vector y was passed when a 1d array was expected. Please change the shape of y to (n_samples, ), for example using ravel().\n",
            "  y = column_or_1d(y, warn=True)\n"
          ]
        },
        {
          "name": "stdout",
          "output_type": "stream",
          "text": [
            "Fold 7: RMSE = 6.3865, R² = 0.4688\n"
          ]
        },
        {
          "name": "stderr",
          "output_type": "stream",
          "text": [
            "c:\\Python\\Python310\\lib\\site-packages\\sklearn\\ensemble\\_stacking.py:865: DataConversionWarning: A column-vector y was passed when a 1d array was expected. Please change the shape of y to (n_samples, ), for example using ravel().\n",
            "  y = column_or_1d(y, warn=True)\n",
            "c:\\Python\\Python310\\lib\\site-packages\\joblib\\externals\\loky\\process_executor.py:702: UserWarning: A worker stopped while some jobs were given to the executor. This can be caused by a too short worker timeout or by a memory leak.\n",
            "  warnings.warn(\n"
          ]
        },
        {
          "name": "stdout",
          "output_type": "stream",
          "text": [
            "Fold 8: RMSE = 6.0612, R² = 0.5410\n"
          ]
        },
        {
          "name": "stderr",
          "output_type": "stream",
          "text": [
            "c:\\Python\\Python310\\lib\\site-packages\\sklearn\\ensemble\\_stacking.py:865: DataConversionWarning: A column-vector y was passed when a 1d array was expected. Please change the shape of y to (n_samples, ), for example using ravel().\n",
            "  y = column_or_1d(y, warn=True)\n"
          ]
        },
        {
          "name": "stdout",
          "output_type": "stream",
          "text": [
            "Fold 9: RMSE = 6.4163, R² = 0.5240\n"
          ]
        },
        {
          "name": "stderr",
          "output_type": "stream",
          "text": [
            "c:\\Python\\Python310\\lib\\site-packages\\sklearn\\ensemble\\_stacking.py:865: DataConversionWarning: A column-vector y was passed when a 1d array was expected. Please change the shape of y to (n_samples, ), for example using ravel().\n",
            "  y = column_or_1d(y, warn=True)\n"
          ]
        },
        {
          "name": "stdout",
          "output_type": "stream",
          "text": [
            "Fold 10: RMSE = 5.6171, R² = 0.7033\n"
          ]
        },
        {
          "name": "stderr",
          "output_type": "stream",
          "text": [
            "c:\\Python\\Python310\\lib\\site-packages\\sklearn\\ensemble\\_stacking.py:865: DataConversionWarning: A column-vector y was passed when a 1d array was expected. Please change the shape of y to (n_samples, ), for example using ravel().\n",
            "  y = column_or_1d(y, warn=True)\n"
          ]
        },
        {
          "name": "stdout",
          "output_type": "stream",
          "text": [
            "Fold 11: RMSE = 6.9579, R² = 0.4383\n"
          ]
        },
        {
          "name": "stderr",
          "output_type": "stream",
          "text": [
            "c:\\Python\\Python310\\lib\\site-packages\\sklearn\\ensemble\\_stacking.py:865: DataConversionWarning: A column-vector y was passed when a 1d array was expected. Please change the shape of y to (n_samples, ), for example using ravel().\n",
            "  y = column_or_1d(y, warn=True)\n"
          ]
        },
        {
          "name": "stdout",
          "output_type": "stream",
          "text": [
            "Fold 12: RMSE = 9.3475, R² = 0.2872\n"
          ]
        },
        {
          "name": "stderr",
          "output_type": "stream",
          "text": [
            "c:\\Python\\Python310\\lib\\site-packages\\sklearn\\ensemble\\_stacking.py:865: DataConversionWarning: A column-vector y was passed when a 1d array was expected. Please change the shape of y to (n_samples, ), for example using ravel().\n",
            "  y = column_or_1d(y, warn=True)\n"
          ]
        },
        {
          "name": "stdout",
          "output_type": "stream",
          "text": [
            "Fold 13: RMSE = 6.9655, R² = 0.5686\n"
          ]
        },
        {
          "name": "stderr",
          "output_type": "stream",
          "text": [
            "c:\\Python\\Python310\\lib\\site-packages\\sklearn\\ensemble\\_stacking.py:865: DataConversionWarning: A column-vector y was passed when a 1d array was expected. Please change the shape of y to (n_samples, ), for example using ravel().\n",
            "  y = column_or_1d(y, warn=True)\n"
          ]
        },
        {
          "name": "stdout",
          "output_type": "stream",
          "text": [
            "Fold 14: RMSE = 5.2929, R² = 0.6089\n"
          ]
        },
        {
          "name": "stderr",
          "output_type": "stream",
          "text": [
            "c:\\Python\\Python310\\lib\\site-packages\\sklearn\\ensemble\\_stacking.py:865: DataConversionWarning: A column-vector y was passed when a 1d array was expected. Please change the shape of y to (n_samples, ), for example using ravel().\n",
            "  y = column_or_1d(y, warn=True)\n"
          ]
        },
        {
          "name": "stdout",
          "output_type": "stream",
          "text": [
            "Fold 15: RMSE = 5.1641, R² = 0.6836\n"
          ]
        },
        {
          "name": "stderr",
          "output_type": "stream",
          "text": [
            "c:\\Python\\Python310\\lib\\site-packages\\sklearn\\ensemble\\_stacking.py:865: DataConversionWarning: A column-vector y was passed when a 1d array was expected. Please change the shape of y to (n_samples, ), for example using ravel().\n",
            "  y = column_or_1d(y, warn=True)\n"
          ]
        },
        {
          "name": "stdout",
          "output_type": "stream",
          "text": [
            "Fold 16: RMSE = 6.7130, R² = 0.5752\n"
          ]
        },
        {
          "name": "stderr",
          "output_type": "stream",
          "text": [
            "c:\\Python\\Python310\\lib\\site-packages\\sklearn\\ensemble\\_stacking.py:865: DataConversionWarning: A column-vector y was passed when a 1d array was expected. Please change the shape of y to (n_samples, ), for example using ravel().\n",
            "  y = column_or_1d(y, warn=True)\n"
          ]
        },
        {
          "name": "stdout",
          "output_type": "stream",
          "text": [
            "Fold 17: RMSE = 6.8644, R² = 0.5228\n"
          ]
        },
        {
          "name": "stderr",
          "output_type": "stream",
          "text": [
            "c:\\Python\\Python310\\lib\\site-packages\\sklearn\\ensemble\\_stacking.py:865: DataConversionWarning: A column-vector y was passed when a 1d array was expected. Please change the shape of y to (n_samples, ), for example using ravel().\n",
            "  y = column_or_1d(y, warn=True)\n"
          ]
        },
        {
          "name": "stdout",
          "output_type": "stream",
          "text": [
            "Fold 18: RMSE = 4.7681, R² = 0.5934\n"
          ]
        },
        {
          "name": "stderr",
          "output_type": "stream",
          "text": [
            "c:\\Python\\Python310\\lib\\site-packages\\sklearn\\ensemble\\_stacking.py:865: DataConversionWarning: A column-vector y was passed when a 1d array was expected. Please change the shape of y to (n_samples, ), for example using ravel().\n",
            "  y = column_or_1d(y, warn=True)\n"
          ]
        },
        {
          "name": "stdout",
          "output_type": "stream",
          "text": [
            "Fold 19: RMSE = 5.0919, R² = 0.7516\n"
          ]
        },
        {
          "name": "stderr",
          "output_type": "stream",
          "text": [
            "c:\\Python\\Python310\\lib\\site-packages\\sklearn\\ensemble\\_stacking.py:865: DataConversionWarning: A column-vector y was passed when a 1d array was expected. Please change the shape of y to (n_samples, ), for example using ravel().\n",
            "  y = column_or_1d(y, warn=True)\n"
          ]
        },
        {
          "name": "stdout",
          "output_type": "stream",
          "text": [
            "Fold 20: RMSE = 5.5332, R² = 0.5410\n",
            "\n",
            "Average RMSE: 6.1658\n",
            "Average R²: 0.5668\n",
            "\n",
            "Best R² Score: 0.7516\n",
            "\n",
            "Predictions on X_test:\n",
            "[60.48714642 72.81494977 70.88133529 74.77194887 71.50059402 61.14446953\n",
            " 65.65853898 70.98019997 66.11506211 59.34690161 73.7086942  76.60342789\n",
            " 56.06172993 71.40963431 75.00343273 64.77786796 77.31429463 70.38692755\n",
            " 65.23078211 63.4982082  62.13398915 56.85330258 79.25891831 79.95408418\n",
            " 66.00583431 72.62879954 72.05905342 75.24519423 71.31418213 65.59218676\n",
            " 64.80797259 72.6060317  69.35590538 68.77772091 71.24949304 58.79083771\n",
            " 63.60716126 77.27855068 67.80799017 66.01942786 65.55309169 67.93502595\n",
            " 72.96236925 75.34199985 56.17034689 77.52265801 61.692225   78.84878608\n",
            " 78.96391086 77.68407379 82.21290095 63.48200171 82.40788245 73.84942558\n",
            " 77.9962254  81.32818966 76.28632849 72.72653015 67.21912619 73.7461702\n",
            " 76.13197283 69.99425197 68.05810365 76.39008831 80.98900286 63.59950372\n",
            " 73.65939321 57.06988884 80.39867584 83.10283299 64.90708889 75.89677742\n",
            " 71.18093949 76.43216445 65.32487363 63.42734349 76.14673845 66.8412422\n",
            " 69.85914582 57.83316961 80.90444131 75.41902698 73.45386289 63.59975846\n",
            " 76.76881138 75.2857495  71.98103235 65.20542633 70.98087119 58.48079112\n",
            " 65.4219295  70.31236928 73.37117814 64.72057922 77.17397655 77.79308077\n",
            " 73.80242794 58.93552769 54.80823022 79.53583643 73.42149084 65.83994677\n",
            " 62.23090919 81.19401891 79.26185763 64.10879435 67.02900854 80.63185015\n",
            " 73.35448599 77.83995363 72.53504724 72.35623438 69.6956324  70.73839201\n",
            " 61.04991536 84.68843751 71.92715878 73.29146488 71.44910225 76.44843244\n",
            " 74.71683013 68.97574127 70.42910454 76.19663173 76.25703887 72.0292339\n",
            " 58.03033002 72.40800585 82.82803938 73.92568217 76.34819742 63.72084428\n",
            " 76.46482925 72.67826505 72.11929123 71.7487417  63.65680792 74.47865356\n",
            " 64.9276252  83.17203839 79.49679189 68.59132156 75.17375369 67.18406436\n",
            " 70.51341397 63.60634543 68.31903125 77.24025645 80.88284379 71.4983997\n",
            " 62.45359867 73.04750904 66.3282723  73.51114664 59.89858823 66.56690506\n",
            " 68.89823389 69.21575002 85.09715115 66.61688036 84.28760055 68.28550705\n",
            " 64.7969278  64.97664693 79.62609948 70.02544041 73.13596424 67.50970114\n",
            " 67.57333892 74.91542766 79.64496226 70.20621383 72.22299792 77.62960742\n",
            " 74.41010086 63.65371441 69.20292896 62.7159047  78.66125358 71.16768149\n",
            " 72.05998882 65.58052689 69.15440394 77.96122685 81.37873799 59.78195158\n",
            " 67.80586226 68.96420102 85.10701072 78.63072483 53.29533215 62.5737648\n",
            " 77.5854183  58.27994459 78.87374098 57.94265228 59.6939716  73.54404647\n",
            " 80.03261758 77.88485459 73.85691747 69.89189004 73.98891683 68.05168292\n",
            " 64.07552608 75.80879842 56.7970525  72.0764811  59.36711374 79.40226154\n",
            " 68.92314735 66.52788419 77.34020117 73.3978249  80.90091604 62.47236558\n",
            " 71.06650141 66.66131514 59.92412092 79.69547116 67.5513815  70.05459882\n",
            " 68.18148806 70.79439173 70.56967794 73.47270342 73.76196138 75.8550833\n",
            " 72.48584353 65.92637077 58.89823665 56.48883787 71.81790246 66.53361505\n",
            " 70.1995261  64.02401848 80.41561682 69.53059158 71.55754369 73.51882328\n",
            " 56.67262831 66.48119386 65.97286327 66.93424071 68.9498622  78.26307928\n",
            " 58.70782433 71.7248216  72.88220282 67.30697579 71.86705504 55.72088047\n",
            " 82.85765459 69.77059348 80.30351464 82.73894651 60.16865422 63.30169889\n",
            " 66.55904121 78.51552101 66.77345571 80.15162562 69.74591105 77.20790744\n",
            " 56.87729281 75.00470545 60.05135421 64.3626     77.80676172 62.97600506\n",
            " 66.99036427 84.32764037 78.0349415  73.73332912 78.80696155 62.33335551\n",
            " 56.07693337 73.96275758 80.58193033 77.58199917 70.56283039 60.52265169\n",
            " 78.59899518 74.28793672 80.57341306 63.0997204  77.66397938 79.05087052\n",
            " 60.21655253 74.39408206 61.52763086 78.79765072 73.3420182  74.92636151\n",
            " 75.37148409 70.77812587 65.37216601 80.03564816 77.38593119 66.57163155\n",
            " 65.92585981 79.38076194 52.07197949 57.57220943 63.85306065 69.33841266\n",
            " 74.56772253 69.08071803 77.65701838 77.86715532 70.39824024 64.44333672\n",
            " 71.83333707 66.47759729 81.40314918 68.76112315 75.2571805  53.88479874\n",
            " 67.26939564 75.29480976 68.54987057 51.60714432 74.47933698 60.24950848\n",
            " 56.07611098 68.78939851 83.50084278 75.46998806 66.25742377 65.33869435\n",
            " 62.94862382 69.71347444 78.8432205  77.32458302 75.60994578 68.68140169\n",
            " 61.48525328 55.87809199 83.92592747 69.24800544 72.16934233 77.14634984\n",
            " 70.7617809  75.51623802 71.91656853 70.19626922 79.98965325 64.33542969\n",
            " 79.14680019 66.05813808 70.09031575 73.70842371 73.84940037 75.24024053\n",
            " 65.69052907 69.9050308  71.19750276 61.87577948 56.49651133 74.37467057\n",
            " 67.03656786 79.15492157 63.42663902 79.91896618 73.39428669 77.99979118\n",
            " 73.59921392 64.65338608 74.84435522 57.27354111 81.38220815 63.92343946\n",
            " 74.25225466 77.20305642 66.20822809 67.10312489 77.05048209 77.34978957\n",
            " 62.35540738 76.81292642 69.40282034 72.36086739 69.38912853 81.07965735\n",
            " 64.15669565 79.08289346 71.08078571 62.62841726 65.25971139 66.80288415\n",
            " 64.25148414 61.72378298 69.76622638 67.65439336 57.15331113 65.64582362\n",
            " 78.57434657 66.31464894 61.72547411 55.28070747 66.54179509 62.49130836\n",
            " 64.00264659 78.50866085 79.50013488 68.85794934 70.49048224 66.69937986\n",
            " 62.00618278 61.63472272 76.67433424 55.72045939 60.0705263  79.0808337\n",
            " 71.34862883 58.35681176 64.25203158 57.98197441 60.94795794 68.78502667\n",
            " 62.3014469  62.38238994 80.21177847 61.309864   80.75603333 57.97209263\n",
            " 76.88762561 64.04903585 75.44537745 75.48562553 72.99831778 64.81693218\n",
            " 66.88798084 78.05192117 69.59998713 62.74509638 59.28944258 61.10839329\n",
            " 81.57486538 57.56490094 74.55428896 74.45798343 72.33058429 63.05788183\n",
            " 75.2211927  63.86984471 71.10597493 59.26812851 76.12401545 63.1392766\n",
            " 70.44596062 75.50649296 63.55581181 61.76909999 73.27377948 73.68677632\n",
            " 65.11961004 55.88543425 68.99430844 60.60485239 69.8904863  57.0794309\n",
            " 56.41573624 75.17010422 66.86062368 68.67709178 78.25592677 72.67386208\n",
            " 68.9977408  64.95630793 67.58157658 63.94057327 80.12468335 66.428887\n",
            " 67.04721456 64.63070327 62.34815472 78.31762014 68.80733752 81.45378947\n",
            " 58.37346116 58.80031343 64.59334575 70.10079522 57.62186495 84.82475887\n",
            " 57.14226832 65.67659796 81.27912288 55.56105997 76.20565578 69.76623491\n",
            " 57.53214183 70.96189008 69.20705582 67.13749382 56.57056599 79.00223346\n",
            " 59.04602092 77.15770086 55.49786002 56.98023965 80.20819572 62.07374205\n",
            " 80.19430505 77.61375392 65.71074664 58.69854372 59.264944   70.85220339\n",
            " 82.08407003 75.27168925 72.83021174 64.67810237 73.18837447 66.36526217\n",
            " 83.13273947 65.66687782 63.95799692 73.9450944  80.89073217 64.31130135\n",
            " 71.9209563  67.78798291 78.13126363 57.08310063 76.07357657 79.45516588\n",
            " 61.58751865 62.3431863  81.54783933 72.33869093 57.88975493 67.47228405\n",
            " 62.59152545 55.52147554 76.62170723 63.96310991 73.29901595 84.03490931\n",
            " 63.97532355 66.01529921 62.79042613 72.16298494 79.21577953 73.3620698\n",
            " 75.28809072 73.71290715 78.72279515 75.67744808 67.26121009 62.00403213\n",
            " 69.86077276 77.0704071  59.44731287 80.68713484 76.39669816 65.29752783\n",
            " 79.14015196 73.99381309 66.18745244 77.34875761 80.9936519  77.39520543\n",
            " 71.25085125 67.14765496 67.09992374 59.04730057 78.47429019 75.53236221\n",
            " 83.17832127 55.98385774 81.76934105 77.55603528 60.17968172 72.44319226\n",
            " 75.25983015 57.86227359 85.40184239 87.0856607  72.06403285 76.58033036\n",
            " 53.12749838 55.65487311 56.08561406 82.12025852 60.41497671 77.29936691\n",
            " 73.29779527 62.1558644  63.87277686 71.02729509 57.95493861 80.68387237\n",
            " 73.75627267 80.43919112 75.74620759 78.35109607 61.08968442 58.03999708\n",
            " 70.60322087 64.45871206 58.49489837 79.22220117 61.99467886 68.74262438\n",
            " 61.46250477 73.59297094 64.01544425 76.28035887 74.66805715 62.7135652\n",
            " 81.50853252 50.56164646 66.52761775 72.64205749 81.74149782 57.32201469\n",
            " 67.18882697 84.97701435 77.55166326 79.53283488 59.06506756 71.05057521\n",
            " 81.1238779  77.442108   76.17747159 85.64566487 57.94992853 54.78637294\n",
            " 81.80707968 68.52123334 76.940778   61.99972697 56.84900551 73.59465621\n",
            " 71.41908194 83.65907074 79.61262814 70.31885626 59.69534252 81.79425068\n",
            " 79.2929834  72.77634147 75.20095534 64.83780417 71.31824061 66.47863414\n",
            " 68.1428658  75.1422752  72.79285346 69.48718111 65.49368055 67.04899727\n",
            " 77.23331225 63.07036892 76.42950828 57.12787683 55.45862354 70.91441555\n",
            " 74.67239996 56.29392621 73.35424604 74.91080196 69.91280635 55.61893264\n",
            " 63.87539163 78.80023967 63.88983235 69.57154107 72.30395753 79.54931638\n",
            " 58.98619718 55.89900075 64.22282327 61.84146483 73.11952463 69.17542593\n",
            " 68.43554426 87.39553713 69.16877644 77.23767184 75.28650003 72.35604341\n",
            " 73.0251953  63.75464263 72.46950849 73.2873073  76.00394021 65.51345086\n",
            " 79.17647844 70.86204901 63.11406129 77.54068015 61.13332993 69.0669135\n",
            " 77.88583763 66.7291375  73.25678525 68.73802564 57.66621926 75.43246198\n",
            " 68.52264015 57.45764555 82.1933115  60.50682161 78.58760706 65.51506853\n",
            " 71.29889318 78.23530582 73.93898795 79.23479961 70.98445903 60.72244097\n",
            " 84.95374004 83.25011438 69.72691821 76.17902747 60.48002234 66.08389384\n",
            " 67.48813694 74.30655732 72.95071855 53.29264052 57.94689436 69.11580211\n",
            " 72.03047017 70.09995912 82.76823314 74.80862131 61.29900897 72.07367435\n",
            " 76.3086044  84.40691017 63.67059884 62.99662185 74.63967331 62.83681164\n",
            " 66.67345234 65.19554247 77.05145084 72.82502145 64.34522506 77.59935058\n",
            " 70.63928007 74.52377319 68.91509839 77.07137269 64.15552296 69.79204183\n",
            " 68.07380298 52.65522468 68.02304845 62.7766101  73.62855469 61.0178071\n",
            " 62.00873727 71.31669594 64.77962918 71.47966882 75.65065795 53.04032563\n",
            " 82.86585087 65.20037939 76.75184745 79.12457623 66.46818083 70.39635286\n",
            " 54.52394528 76.1983196  80.13310738 66.34565795 73.13721754 74.63876771\n",
            " 70.17273017 63.72088513]\n"
          ]
        }
      ],
      "source": [
        "# Initialize KFold\n",
        "kf = KFold(n_splits=20, shuffle=True, random_state=88)\n",
        "\n",
        "rmse_scores = []\n",
        "r2_scores = []\n",
        "best_r2_score = -np.inf  # Initialize best R² to a very low value\n",
        "best_model = None  # To store the best model\n",
        "best_scaler = None  # To store the scaler for the best model\n",
        "\n",
        "# Loop through each fold\n",
        "for fold_num, (train_index, val_index) in enumerate(kf.split(X_train), start=1):\n",
        "    # Split the data into training and validation sets for this fold\n",
        "    X_train_fold, X_val_fold = X_train[train_index], X_train[val_index]\n",
        "    y_train_fold, y_val_fold = y_train[train_index], y_train[val_index]\n",
        "\n",
        "    # Standardize the features\n",
        "    scaler = StandardScaler()\n",
        "    X_train_fold = scaler.fit_transform(X_train_fold)  # Fit and transform on training data\n",
        "    X_val_fold = scaler.transform(X_val_fold)\n",
        "\n",
        "    # Create and fit the model\n",
        "    # model = XGBRegressor(\n",
        "    #     n_estimators=100000,\n",
        "    #     random_state=88,\n",
        "    #     learning_rate=0.05,\n",
        "    #     max_depth=8,\n",
        "    #     subsample=0.85,\n",
        "    #     colsample_bytree=0.95,\n",
        "    #     early_stopping_rounds=20,\n",
        "    #     eval_metric='rmse'\n",
        "    # )\n",
        "\n",
        "    model = stacked_regressor\n",
        "\n",
        "    # model.fit(X_train_fold, y_train_fold,\n",
        "    #           eval_set=[(X_val_fold, y_val_fold)],\n",
        "    #           verbose=False)\n",
        "\n",
        "    model.fit(X_train_fold, y_train_fold)\n",
        "\n",
        "    # Predict on the validation set\n",
        "    y_pred = model.predict(X_val_fold)\n",
        "\n",
        "    # Calculate RMSE and R²\n",
        "    rmse = np.sqrt(mean_squared_error(y_val_fold, y_pred))\n",
        "    r2 = r2_score(y_val_fold, y_pred)\n",
        "\n",
        "    # Print metrics for the current fold\n",
        "    print(f\"Fold {fold_num}: RMSE = {rmse:.4f}, R² = {r2:.4f}\")\n",
        "\n",
        "    rmse_scores.append(rmse)\n",
        "    r2_scores.append(r2)\n",
        "\n",
        "    # Keep track of the best model based on R² score\n",
        "    if r2 > best_r2_score:\n",
        "        best_r2_score = r2\n",
        "        best_model = model  # Store the model with the best R²\n",
        "        best_scaler = scaler  # Store the corresponding scaler\n",
        "\n",
        "# Print the average RMSE and R² across all folds\n",
        "print(f\"\\nAverage RMSE: {np.mean(rmse_scores):.4f}\")\n",
        "print(f\"Average R²: {np.mean(r2_scores):.4f}\")\n",
        "print(f\"\\nBest R² Score: {best_r2_score:.4f}\")\n",
        "\n",
        "# Use the best model and corresponding scaler to predict on X_test\n",
        "X_test_standardized = best_scaler.transform(X_test)  # Standardize X_test using the best scaler\n",
        "y_test_pred = best_model.predict(X_test_standardized)\n",
        "\n",
        "# Print or return the predictions\n",
        "print(\"\\nPredictions on X_test:\")\n",
        "print(y_test_pred)"
      ]
    },
    {
      "cell_type": "code",
      "execution_count": 41,
      "metadata": {
        "id": "jpZDfH25-BZL"
      },
      "outputs": [],
      "source": [
        "sample['y'] = y_test_pred\n",
        "sample.to_csv(\"submission.csv\", index=False)"
      ]
    }
  ],
  "metadata": {
    "colab": {
      "authorship_tag": "ABX9TyNbzp1zUTU6QWLeMvIuWBvL",
      "collapsed_sections": [
        "kkykmU0ywxqy"
      ],
      "include_colab_link": true,
      "mount_file_id": "1_1pBu2qDEde58SFaYnz08J0dFTVIGuxy",
      "provenance": []
    },
    "kernelspec": {
      "display_name": "Python 3",
      "name": "python3"
    },
    "language_info": {
      "codemirror_mode": {
        "name": "ipython",
        "version": 3
      },
      "file_extension": ".py",
      "mimetype": "text/x-python",
      "name": "python",
      "nbconvert_exporter": "python",
      "pygments_lexer": "ipython3",
      "version": "3.9.10"
    }
  },
  "nbformat": 4,
  "nbformat_minor": 0
}
